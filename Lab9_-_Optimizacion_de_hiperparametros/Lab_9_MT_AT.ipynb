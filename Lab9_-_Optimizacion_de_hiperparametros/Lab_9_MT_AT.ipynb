{
  "cells": [
    {
      "cell_type": "markdown",
      "metadata": {
        "cell_id": "b5c0d2440b3e4995a794ded565213150",
        "deepnote_cell_type": "markdown",
        "id": "_Mql1uRoI5v5"
      },
      "source": [
        "<h1><center>Laboratorio 9: Optimización de modelos 💯</center></h1>\n",
        "\n",
        "<center><strong>MDS7202: Laboratorio de Programación Científica para Ciencia de Datos - Primavera 2024</strong></center>"
      ]
    },
    {
      "cell_type": "markdown",
      "metadata": {
        "cell_id": "bfb94b9656f145ad83e81b75d218cb70",
        "deepnote_cell_type": "markdown",
        "id": "FAPGIlEAI5v8"
      },
      "source": [
        "### **Cuerpo Docente:**\n",
        "\n",
        "- Profesores: Ignacio Meza, Sebastián Tinoco\n",
        "- Auxiliar: Eduardo Moya\n",
        "- Ayudantes: Nicolás Ojeda, Melanie Peña, Valentina Rojas"
      ]
    },
    {
      "cell_type": "markdown",
      "metadata": {
        "cell_id": "b1b537fdd27c43909a49d3476ce64d91",
        "deepnote_cell_type": "markdown",
        "id": "8NozgbkZI5v9"
      },
      "source": [
        "### Equipo: SUPER IMPORTANTE - notebooks sin nombre no serán revisados\n",
        "\n",
        "- Nombre de alumno 1: Alejandra Toro\n",
        "- Nombre de alumno 2: Martín Torrico"
      ]
    },
    {
      "cell_type": "markdown",
      "metadata": {
        "id": "5hhR8cMXlCLc"
      },
      "source": [
        "### **Link de repositorio de GitHub:** [Insertar Repositorio](https://github.com/MartinTorricoP/Laboratorios_MDS7202)"
      ]
    },
    {
      "cell_type": "markdown",
      "metadata": {
        "cell_id": "b7dbdd30ab544cb8a8afe00648a586ae",
        "deepnote_cell_type": "markdown",
        "id": "vHU9DI6wI5v9"
      },
      "source": [
        "### Temas a tratar\n",
        "\n",
        "- Predicción de demanda usando `xgboost`\n",
        "- Búsqueda del modelo óptimo de clasificación usando `optuna`\n",
        "- Uso de pipelines.\n",
        "\n",
        "### Reglas:\n",
        "\n",
        "- **Grupos de 2 personas**\n",
        "- Cualquier duda fuera del horario de clases al foro. Mensajes al equipo docente serán respondidos por este medio.\n",
        "- Prohibidas las copias.\n",
        "- Pueden usar cualquer matrial del curso que estimen conveniente.\n",
        "- Código que no se pueda ejecutar, no será revisado.\n",
        "\n",
        "### Objetivos principales del laboratorio\n",
        "\n",
        "- Optimizar modelos usando `optuna`\n",
        "- Recurrir a técnicas de *prunning*\n",
        "- Forzar el aprendizaje de relaciones entre variables mediante *constraints*\n",
        "- Fijar un pipeline con un modelo base que luego se irá optimizando.\n",
        "\n",
        "El laboratorio deberá ser desarrollado sin el uso indiscriminado de iteradores nativos de python (aka \"for\", \"while\"). La idea es que aprendan a exprimir al máximo las funciones optimizadas que nos entrega `pandas`, las cuales vale mencionar, son bastante más eficientes que los iteradores nativos sobre DataFrames."
      ]
    },
    {
      "cell_type": "markdown",
      "metadata": {
        "cell_id": "f1c73babb7f74af588a4fa6ae14829e0",
        "deepnote_cell_type": "markdown",
        "id": "U_-sNOuOI5v9"
      },
      "source": [
        "# Importamos librerias útiles"
      ]
    },
    {
      "cell_type": "code",
      "execution_count": 1,
      "metadata": {
        "cell_id": "51afe4d2df42442b9e5402ffece60ead",
        "deepnote_cell_type": "code",
        "deepnote_to_be_reexecuted": false,
        "execution_millis": 4957,
        "execution_start": 1699544354044,
        "id": "ekHbM85NI5v9",
        "source_hash": null,
        "colab": {
          "base_uri": "https://localhost:8080/"
        },
        "outputId": "7ec575d5-1ea9-4ea2-a0b4-2ee881ead2dc"
      },
      "outputs": [
        {
          "output_type": "stream",
          "name": "stdout",
          "text": [
            "\u001b[?25l   \u001b[90m━━━━━━━━━━━━━━━━━━━━━━━━━━━━━━━━━━━━━━━━\u001b[0m \u001b[32m0.0/362.8 kB\u001b[0m \u001b[31m?\u001b[0m eta \u001b[36m-:--:--\u001b[0m\r\u001b[2K   \u001b[91m━━━━━━━━━━━━━━━━━━━━━━━━━━━━━━━━━━━━━━━\u001b[0m\u001b[91m╸\u001b[0m \u001b[32m358.4/362.8 kB\u001b[0m \u001b[31m14.9 MB/s\u001b[0m eta \u001b[36m0:00:01\u001b[0m\r\u001b[2K   \u001b[90m━━━━━━━━━━━━━━━━━━━━━━━━━━━━━━━━━━━━━━━━\u001b[0m \u001b[32m362.8/362.8 kB\u001b[0m \u001b[31m7.4 MB/s\u001b[0m eta \u001b[36m0:00:00\u001b[0m\n",
            "\u001b[2K   \u001b[90m━━━━━━━━━━━━━━━━━━━━━━━━━━━━━━━━━━━━━━━━\u001b[0m \u001b[32m233.2/233.2 kB\u001b[0m \u001b[31m12.4 MB/s\u001b[0m eta \u001b[36m0:00:00\u001b[0m\n",
            "\u001b[2K   \u001b[90m━━━━━━━━━━━━━━━━━━━━━━━━━━━━━━━━━━━━━━━━\u001b[0m \u001b[32m78.6/78.6 kB\u001b[0m \u001b[31m4.6 MB/s\u001b[0m eta \u001b[36m0:00:00\u001b[0m\n",
            "\u001b[?25h"
          ]
        }
      ],
      "source": [
        "!pip install -qq xgboost optuna"
      ]
    },
    {
      "cell_type": "markdown",
      "metadata": {
        "id": "y6hJXpLCSspz"
      },
      "source": [
        "# El emprendimiento de Fiu"
      ]
    },
    {
      "cell_type": "markdown",
      "metadata": {
        "cell_id": "44d227389a734ac59189c5e0005bc68a",
        "deepnote_cell_type": "markdown",
        "id": "b0bDalAOI5v-"
      },
      "source": [
        "Tras liderar de manera exitosa la implementación de un proyecto de ciencia de datos para caracterizar los datos generados en Santiago 2023, el misterioso corpóreo **Fiu** se anima y decide levantar su propio negocio de consultoría en machine learning. Tras varias e intensas negociaciones, Fiu logra encontrar su *primera chamba*: predecir la demanda (cantidad de venta) de una famosa productora de bebidas de calibre mundial. Al ver el gran potencial y talento que usted ha demostrado en el campo de la ciencia de datos, Fiu lo contrata como data scientist para que forme parte de su nuevo emprendimiento.\n",
        "\n",
        "Para este laboratorio deben trabajar con los datos `sales.csv` subidos a u-cursos, el cual contiene una muestra de ventas de la empresa para diferentes productos en un determinado tiempo.\n",
        "\n",
        "Para comenzar, cargue el dataset señalado y visualice a través de un `.head` los atributos que posee el dataset.\n",
        "\n",
        "<i><p align=\"center\">Fiu siendo felicitado por su excelente desempeño en el proyecto de caracterización de datos</p></i>\n",
        "<p align=\"center\">\n",
        "  <img src=\"https://media-front.elmostrador.cl/2023/09/A_UNO_1506411_2440e.jpg\">\n",
        "</p>"
      ]
    },
    {
      "cell_type": "code",
      "execution_count": 2,
      "metadata": {
        "cell_id": "2f9c82d204b14515ad27ae07e0b77702",
        "colab": {
          "base_uri": "https://localhost:8080/",
          "height": 206
        },
        "deepnote_cell_type": "code",
        "deepnote_to_be_reexecuted": false,
        "execution_millis": 92,
        "execution_start": 1699544359006,
        "id": "QvMPOqHuI5v-",
        "outputId": "97a08da1-3e4b-448d-8a68-847ee856bd4e",
        "source_hash": null
      },
      "outputs": [
        {
          "output_type": "execute_result",
          "data": {
            "text/plain": [
              "   id      date    city       lat      long     pop    shop        brand  \\\n",
              "0   0  31/01/12  Athens  37.97945  23.71622  672130  shop_1  kinder-cola   \n",
              "1   1  31/01/12  Athens  37.97945  23.71622  672130  shop_1  kinder-cola   \n",
              "2   2  31/01/12  Athens  37.97945  23.71622  672130  shop_1  kinder-cola   \n",
              "3   3  31/01/12  Athens  37.97945  23.71622  672130  shop_1   adult-cola   \n",
              "4   4  31/01/12  Athens  37.97945  23.71622  672130  shop_1   adult-cola   \n",
              "\n",
              "  container capacity  price  quantity  \n",
              "0     glass    500ml   0.96     13280  \n",
              "1   plastic    1.5lt   2.86      6727  \n",
              "2       can    330ml   0.87      9848  \n",
              "3     glass    500ml   1.00     20050  \n",
              "4       can    330ml   0.39     25696  "
            ],
            "text/html": [
              "\n",
              "  <div id=\"df-f3af3651-89d6-4453-a804-2d12833bcf37\" class=\"colab-df-container\">\n",
              "    <div>\n",
              "<style scoped>\n",
              "    .dataframe tbody tr th:only-of-type {\n",
              "        vertical-align: middle;\n",
              "    }\n",
              "\n",
              "    .dataframe tbody tr th {\n",
              "        vertical-align: top;\n",
              "    }\n",
              "\n",
              "    .dataframe thead th {\n",
              "        text-align: right;\n",
              "    }\n",
              "</style>\n",
              "<table border=\"1\" class=\"dataframe\">\n",
              "  <thead>\n",
              "    <tr style=\"text-align: right;\">\n",
              "      <th></th>\n",
              "      <th>id</th>\n",
              "      <th>date</th>\n",
              "      <th>city</th>\n",
              "      <th>lat</th>\n",
              "      <th>long</th>\n",
              "      <th>pop</th>\n",
              "      <th>shop</th>\n",
              "      <th>brand</th>\n",
              "      <th>container</th>\n",
              "      <th>capacity</th>\n",
              "      <th>price</th>\n",
              "      <th>quantity</th>\n",
              "    </tr>\n",
              "  </thead>\n",
              "  <tbody>\n",
              "    <tr>\n",
              "      <th>0</th>\n",
              "      <td>0</td>\n",
              "      <td>31/01/12</td>\n",
              "      <td>Athens</td>\n",
              "      <td>37.97945</td>\n",
              "      <td>23.71622</td>\n",
              "      <td>672130</td>\n",
              "      <td>shop_1</td>\n",
              "      <td>kinder-cola</td>\n",
              "      <td>glass</td>\n",
              "      <td>500ml</td>\n",
              "      <td>0.96</td>\n",
              "      <td>13280</td>\n",
              "    </tr>\n",
              "    <tr>\n",
              "      <th>1</th>\n",
              "      <td>1</td>\n",
              "      <td>31/01/12</td>\n",
              "      <td>Athens</td>\n",
              "      <td>37.97945</td>\n",
              "      <td>23.71622</td>\n",
              "      <td>672130</td>\n",
              "      <td>shop_1</td>\n",
              "      <td>kinder-cola</td>\n",
              "      <td>plastic</td>\n",
              "      <td>1.5lt</td>\n",
              "      <td>2.86</td>\n",
              "      <td>6727</td>\n",
              "    </tr>\n",
              "    <tr>\n",
              "      <th>2</th>\n",
              "      <td>2</td>\n",
              "      <td>31/01/12</td>\n",
              "      <td>Athens</td>\n",
              "      <td>37.97945</td>\n",
              "      <td>23.71622</td>\n",
              "      <td>672130</td>\n",
              "      <td>shop_1</td>\n",
              "      <td>kinder-cola</td>\n",
              "      <td>can</td>\n",
              "      <td>330ml</td>\n",
              "      <td>0.87</td>\n",
              "      <td>9848</td>\n",
              "    </tr>\n",
              "    <tr>\n",
              "      <th>3</th>\n",
              "      <td>3</td>\n",
              "      <td>31/01/12</td>\n",
              "      <td>Athens</td>\n",
              "      <td>37.97945</td>\n",
              "      <td>23.71622</td>\n",
              "      <td>672130</td>\n",
              "      <td>shop_1</td>\n",
              "      <td>adult-cola</td>\n",
              "      <td>glass</td>\n",
              "      <td>500ml</td>\n",
              "      <td>1.00</td>\n",
              "      <td>20050</td>\n",
              "    </tr>\n",
              "    <tr>\n",
              "      <th>4</th>\n",
              "      <td>4</td>\n",
              "      <td>31/01/12</td>\n",
              "      <td>Athens</td>\n",
              "      <td>37.97945</td>\n",
              "      <td>23.71622</td>\n",
              "      <td>672130</td>\n",
              "      <td>shop_1</td>\n",
              "      <td>adult-cola</td>\n",
              "      <td>can</td>\n",
              "      <td>330ml</td>\n",
              "      <td>0.39</td>\n",
              "      <td>25696</td>\n",
              "    </tr>\n",
              "  </tbody>\n",
              "</table>\n",
              "</div>\n",
              "    <div class=\"colab-df-buttons\">\n",
              "\n",
              "  <div class=\"colab-df-container\">\n",
              "    <button class=\"colab-df-convert\" onclick=\"convertToInteractive('df-f3af3651-89d6-4453-a804-2d12833bcf37')\"\n",
              "            title=\"Convert this dataframe to an interactive table.\"\n",
              "            style=\"display:none;\">\n",
              "\n",
              "  <svg xmlns=\"http://www.w3.org/2000/svg\" height=\"24px\" viewBox=\"0 -960 960 960\">\n",
              "    <path d=\"M120-120v-720h720v720H120Zm60-500h600v-160H180v160Zm220 220h160v-160H400v160Zm0 220h160v-160H400v160ZM180-400h160v-160H180v160Zm440 0h160v-160H620v160ZM180-180h160v-160H180v160Zm440 0h160v-160H620v160Z\"/>\n",
              "  </svg>\n",
              "    </button>\n",
              "\n",
              "  <style>\n",
              "    .colab-df-container {\n",
              "      display:flex;\n",
              "      gap: 12px;\n",
              "    }\n",
              "\n",
              "    .colab-df-convert {\n",
              "      background-color: #E8F0FE;\n",
              "      border: none;\n",
              "      border-radius: 50%;\n",
              "      cursor: pointer;\n",
              "      display: none;\n",
              "      fill: #1967D2;\n",
              "      height: 32px;\n",
              "      padding: 0 0 0 0;\n",
              "      width: 32px;\n",
              "    }\n",
              "\n",
              "    .colab-df-convert:hover {\n",
              "      background-color: #E2EBFA;\n",
              "      box-shadow: 0px 1px 2px rgba(60, 64, 67, 0.3), 0px 1px 3px 1px rgba(60, 64, 67, 0.15);\n",
              "      fill: #174EA6;\n",
              "    }\n",
              "\n",
              "    .colab-df-buttons div {\n",
              "      margin-bottom: 4px;\n",
              "    }\n",
              "\n",
              "    [theme=dark] .colab-df-convert {\n",
              "      background-color: #3B4455;\n",
              "      fill: #D2E3FC;\n",
              "    }\n",
              "\n",
              "    [theme=dark] .colab-df-convert:hover {\n",
              "      background-color: #434B5C;\n",
              "      box-shadow: 0px 1px 3px 1px rgba(0, 0, 0, 0.15);\n",
              "      filter: drop-shadow(0px 1px 2px rgba(0, 0, 0, 0.3));\n",
              "      fill: #FFFFFF;\n",
              "    }\n",
              "  </style>\n",
              "\n",
              "    <script>\n",
              "      const buttonEl =\n",
              "        document.querySelector('#df-f3af3651-89d6-4453-a804-2d12833bcf37 button.colab-df-convert');\n",
              "      buttonEl.style.display =\n",
              "        google.colab.kernel.accessAllowed ? 'block' : 'none';\n",
              "\n",
              "      async function convertToInteractive(key) {\n",
              "        const element = document.querySelector('#df-f3af3651-89d6-4453-a804-2d12833bcf37');\n",
              "        const dataTable =\n",
              "          await google.colab.kernel.invokeFunction('convertToInteractive',\n",
              "                                                    [key], {});\n",
              "        if (!dataTable) return;\n",
              "\n",
              "        const docLinkHtml = 'Like what you see? Visit the ' +\n",
              "          '<a target=\"_blank\" href=https://colab.research.google.com/notebooks/data_table.ipynb>data table notebook</a>'\n",
              "          + ' to learn more about interactive tables.';\n",
              "        element.innerHTML = '';\n",
              "        dataTable['output_type'] = 'display_data';\n",
              "        await google.colab.output.renderOutput(dataTable, element);\n",
              "        const docLink = document.createElement('div');\n",
              "        docLink.innerHTML = docLinkHtml;\n",
              "        element.appendChild(docLink);\n",
              "      }\n",
              "    </script>\n",
              "  </div>\n",
              "\n",
              "\n",
              "<div id=\"df-417b10eb-d0c2-4a0f-b2e4-eafd500a801f\">\n",
              "  <button class=\"colab-df-quickchart\" onclick=\"quickchart('df-417b10eb-d0c2-4a0f-b2e4-eafd500a801f')\"\n",
              "            title=\"Suggest charts\"\n",
              "            style=\"display:none;\">\n",
              "\n",
              "<svg xmlns=\"http://www.w3.org/2000/svg\" height=\"24px\"viewBox=\"0 0 24 24\"\n",
              "     width=\"24px\">\n",
              "    <g>\n",
              "        <path d=\"M19 3H5c-1.1 0-2 .9-2 2v14c0 1.1.9 2 2 2h14c1.1 0 2-.9 2-2V5c0-1.1-.9-2-2-2zM9 17H7v-7h2v7zm4 0h-2V7h2v10zm4 0h-2v-4h2v4z\"/>\n",
              "    </g>\n",
              "</svg>\n",
              "  </button>\n",
              "\n",
              "<style>\n",
              "  .colab-df-quickchart {\n",
              "      --bg-color: #E8F0FE;\n",
              "      --fill-color: #1967D2;\n",
              "      --hover-bg-color: #E2EBFA;\n",
              "      --hover-fill-color: #174EA6;\n",
              "      --disabled-fill-color: #AAA;\n",
              "      --disabled-bg-color: #DDD;\n",
              "  }\n",
              "\n",
              "  [theme=dark] .colab-df-quickchart {\n",
              "      --bg-color: #3B4455;\n",
              "      --fill-color: #D2E3FC;\n",
              "      --hover-bg-color: #434B5C;\n",
              "      --hover-fill-color: #FFFFFF;\n",
              "      --disabled-bg-color: #3B4455;\n",
              "      --disabled-fill-color: #666;\n",
              "  }\n",
              "\n",
              "  .colab-df-quickchart {\n",
              "    background-color: var(--bg-color);\n",
              "    border: none;\n",
              "    border-radius: 50%;\n",
              "    cursor: pointer;\n",
              "    display: none;\n",
              "    fill: var(--fill-color);\n",
              "    height: 32px;\n",
              "    padding: 0;\n",
              "    width: 32px;\n",
              "  }\n",
              "\n",
              "  .colab-df-quickchart:hover {\n",
              "    background-color: var(--hover-bg-color);\n",
              "    box-shadow: 0 1px 2px rgba(60, 64, 67, 0.3), 0 1px 3px 1px rgba(60, 64, 67, 0.15);\n",
              "    fill: var(--button-hover-fill-color);\n",
              "  }\n",
              "\n",
              "  .colab-df-quickchart-complete:disabled,\n",
              "  .colab-df-quickchart-complete:disabled:hover {\n",
              "    background-color: var(--disabled-bg-color);\n",
              "    fill: var(--disabled-fill-color);\n",
              "    box-shadow: none;\n",
              "  }\n",
              "\n",
              "  .colab-df-spinner {\n",
              "    border: 2px solid var(--fill-color);\n",
              "    border-color: transparent;\n",
              "    border-bottom-color: var(--fill-color);\n",
              "    animation:\n",
              "      spin 1s steps(1) infinite;\n",
              "  }\n",
              "\n",
              "  @keyframes spin {\n",
              "    0% {\n",
              "      border-color: transparent;\n",
              "      border-bottom-color: var(--fill-color);\n",
              "      border-left-color: var(--fill-color);\n",
              "    }\n",
              "    20% {\n",
              "      border-color: transparent;\n",
              "      border-left-color: var(--fill-color);\n",
              "      border-top-color: var(--fill-color);\n",
              "    }\n",
              "    30% {\n",
              "      border-color: transparent;\n",
              "      border-left-color: var(--fill-color);\n",
              "      border-top-color: var(--fill-color);\n",
              "      border-right-color: var(--fill-color);\n",
              "    }\n",
              "    40% {\n",
              "      border-color: transparent;\n",
              "      border-right-color: var(--fill-color);\n",
              "      border-top-color: var(--fill-color);\n",
              "    }\n",
              "    60% {\n",
              "      border-color: transparent;\n",
              "      border-right-color: var(--fill-color);\n",
              "    }\n",
              "    80% {\n",
              "      border-color: transparent;\n",
              "      border-right-color: var(--fill-color);\n",
              "      border-bottom-color: var(--fill-color);\n",
              "    }\n",
              "    90% {\n",
              "      border-color: transparent;\n",
              "      border-bottom-color: var(--fill-color);\n",
              "    }\n",
              "  }\n",
              "</style>\n",
              "\n",
              "  <script>\n",
              "    async function quickchart(key) {\n",
              "      const quickchartButtonEl =\n",
              "        document.querySelector('#' + key + ' button');\n",
              "      quickchartButtonEl.disabled = true;  // To prevent multiple clicks.\n",
              "      quickchartButtonEl.classList.add('colab-df-spinner');\n",
              "      try {\n",
              "        const charts = await google.colab.kernel.invokeFunction(\n",
              "            'suggestCharts', [key], {});\n",
              "      } catch (error) {\n",
              "        console.error('Error during call to suggestCharts:', error);\n",
              "      }\n",
              "      quickchartButtonEl.classList.remove('colab-df-spinner');\n",
              "      quickchartButtonEl.classList.add('colab-df-quickchart-complete');\n",
              "    }\n",
              "    (() => {\n",
              "      let quickchartButtonEl =\n",
              "        document.querySelector('#df-417b10eb-d0c2-4a0f-b2e4-eafd500a801f button');\n",
              "      quickchartButtonEl.style.display =\n",
              "        google.colab.kernel.accessAllowed ? 'block' : 'none';\n",
              "    })();\n",
              "  </script>\n",
              "</div>\n",
              "\n",
              "    </div>\n",
              "  </div>\n"
            ],
            "application/vnd.google.colaboratory.intrinsic+json": {
              "type": "dataframe",
              "variable_name": "df",
              "summary": "{\n  \"name\": \"df\",\n  \"rows\": 7456,\n  \"fields\": [\n    {\n      \"column\": \"id\",\n      \"properties\": {\n        \"dtype\": \"number\",\n        \"std\": 2185,\n        \"min\": 0,\n        \"max\": 7559,\n        \"num_unique_values\": 7456,\n        \"samples\": [\n          5762,\n          2211,\n          1158\n        ],\n        \"semantic_type\": \"\",\n        \"description\": \"\"\n      }\n    },\n    {\n      \"column\": \"date\",\n      \"properties\": {\n        \"dtype\": \"object\",\n        \"num_unique_values\": 84,\n        \"samples\": [\n          \"28/02/18\",\n          \"31/01/12\",\n          \"30/11/16\"\n        ],\n        \"semantic_type\": \"\",\n        \"description\": \"\"\n      }\n    },\n    {\n      \"column\": \"city\",\n      \"properties\": {\n        \"dtype\": \"category\",\n        \"num_unique_values\": 5,\n        \"samples\": [\n          \"Irakleion\",\n          \"Larisa\",\n          \"Patra\"\n        ],\n        \"semantic_type\": \"\",\n        \"description\": \"\"\n      }\n    },\n    {\n      \"column\": \"lat\",\n      \"properties\": {\n        \"dtype\": \"number\",\n        \"std\": 1.6500304350056803,\n        \"min\": 35.32787,\n        \"max\": 40.64361,\n        \"num_unique_values\": 6,\n        \"samples\": [\n          37.97945,\n          35.32787,\n          39.63689\n        ],\n        \"semantic_type\": \"\",\n        \"description\": \"\"\n      }\n    },\n    {\n      \"column\": \"long\",\n      \"properties\": {\n        \"dtype\": \"number\",\n        \"std\": 1.086591619369265,\n        \"min\": 21.73444,\n        \"max\": 25.14341,\n        \"num_unique_values\": 6,\n        \"samples\": [\n          23.71622,\n          25.14341,\n          22.41761\n        ],\n        \"semantic_type\": \"\",\n        \"description\": \"\"\n      }\n    },\n    {\n      \"column\": \"pop\",\n      \"properties\": {\n        \"dtype\": \"number\",\n        \"std\": 232336,\n        \"min\": 134219,\n        \"max\": 672130,\n        \"num_unique_values\": 35,\n        \"samples\": [\n          138200,\n          349232,\n          142030\n        ],\n        \"semantic_type\": \"\",\n        \"description\": \"\"\n      }\n    },\n    {\n      \"column\": \"shop\",\n      \"properties\": {\n        \"dtype\": \"category\",\n        \"num_unique_values\": 6,\n        \"samples\": [\n          \"shop_1\",\n          \"shop_2\",\n          \"shop_5\"\n        ],\n        \"semantic_type\": \"\",\n        \"description\": \"\"\n      }\n    },\n    {\n      \"column\": \"brand\",\n      \"properties\": {\n        \"dtype\": \"category\",\n        \"num_unique_values\": 5,\n        \"samples\": [\n          \"adult-cola\",\n          \"lemon-boost\",\n          \"orange-power\"\n        ],\n        \"semantic_type\": \"\",\n        \"description\": \"\"\n      }\n    },\n    {\n      \"column\": \"container\",\n      \"properties\": {\n        \"dtype\": \"category\",\n        \"num_unique_values\": 3,\n        \"samples\": [\n          \"glass\",\n          \"plastic\",\n          \"can\"\n        ],\n        \"semantic_type\": \"\",\n        \"description\": \"\"\n      }\n    },\n    {\n      \"column\": \"capacity\",\n      \"properties\": {\n        \"dtype\": \"category\",\n        \"num_unique_values\": 3,\n        \"samples\": [\n          \"500ml\",\n          \"1.5lt\",\n          \"330ml\"\n        ],\n        \"semantic_type\": \"\",\n        \"description\": \"\"\n      }\n    },\n    {\n      \"column\": \"price\",\n      \"properties\": {\n        \"dtype\": \"number\",\n        \"std\": 0.8181749452291482,\n        \"min\": 0.11,\n        \"max\": 4.79,\n        \"num_unique_values\": 402,\n        \"samples\": [\n          4.02,\n          3.1,\n          2.99\n        ],\n        \"semantic_type\": \"\",\n        \"description\": \"\"\n      }\n    },\n    {\n      \"column\": \"quantity\",\n      \"properties\": {\n        \"dtype\": \"number\",\n        \"std\": 17652,\n        \"min\": 2953,\n        \"max\": 145287,\n        \"num_unique_values\": 6906,\n        \"samples\": [\n          14449,\n          27105,\n          13479\n        ],\n        \"semantic_type\": \"\",\n        \"description\": \"\"\n      }\n    }\n  ]\n}"
            }
          },
          "metadata": {},
          "execution_count": 2
        }
      ],
      "source": [
        "import pandas as pd\n",
        "import numpy as np\n",
        "from datetime import datetime\n",
        "\n",
        "df = pd.read_csv('sales.csv')\n",
        "\n",
        "df.head()"
      ]
    },
    {
      "cell_type": "code",
      "execution_count": 3,
      "metadata": {
        "colab": {
          "base_uri": "https://localhost:8080/",
          "height": 209
        },
        "id": "jh8d03U4ZBam",
        "outputId": "890beb26-0076-4524-ce8a-4e323e49c0dd"
      },
      "outputs": [
        {
          "output_type": "execute_result",
          "data": {
            "text/plain": [
              "capacity\n",
              "330ml    2486\n",
              "500ml    2485\n",
              "1.5lt    2485\n",
              "Name: count, dtype: int64"
            ],
            "text/html": [
              "<div>\n",
              "<style scoped>\n",
              "    .dataframe tbody tr th:only-of-type {\n",
              "        vertical-align: middle;\n",
              "    }\n",
              "\n",
              "    .dataframe tbody tr th {\n",
              "        vertical-align: top;\n",
              "    }\n",
              "\n",
              "    .dataframe thead th {\n",
              "        text-align: right;\n",
              "    }\n",
              "</style>\n",
              "<table border=\"1\" class=\"dataframe\">\n",
              "  <thead>\n",
              "    <tr style=\"text-align: right;\">\n",
              "      <th></th>\n",
              "      <th>count</th>\n",
              "    </tr>\n",
              "    <tr>\n",
              "      <th>capacity</th>\n",
              "      <th></th>\n",
              "    </tr>\n",
              "  </thead>\n",
              "  <tbody>\n",
              "    <tr>\n",
              "      <th>330ml</th>\n",
              "      <td>2486</td>\n",
              "    </tr>\n",
              "    <tr>\n",
              "      <th>500ml</th>\n",
              "      <td>2485</td>\n",
              "    </tr>\n",
              "    <tr>\n",
              "      <th>1.5lt</th>\n",
              "      <td>2485</td>\n",
              "    </tr>\n",
              "  </tbody>\n",
              "</table>\n",
              "</div><br><label><b>dtype:</b> int64</label>"
            ]
          },
          "metadata": {},
          "execution_count": 3
        }
      ],
      "source": [
        "df['capacity'].value_counts()"
      ]
    },
    {
      "cell_type": "code",
      "execution_count": 4,
      "metadata": {
        "colab": {
          "base_uri": "https://localhost:8080/",
          "height": 460
        },
        "id": "r9MGv3bnzSB9",
        "outputId": "770d49f6-907d-4c95-97b9-b191e21b57bb"
      },
      "outputs": [
        {
          "output_type": "execute_result",
          "data": {
            "text/plain": [
              "id           0\n",
              "date         0\n",
              "city         0\n",
              "lat          0\n",
              "long         0\n",
              "pop          0\n",
              "shop         0\n",
              "brand        0\n",
              "container    0\n",
              "capacity     0\n",
              "price        0\n",
              "quantity     0\n",
              "dtype: int64"
            ],
            "text/html": [
              "<div>\n",
              "<style scoped>\n",
              "    .dataframe tbody tr th:only-of-type {\n",
              "        vertical-align: middle;\n",
              "    }\n",
              "\n",
              "    .dataframe tbody tr th {\n",
              "        vertical-align: top;\n",
              "    }\n",
              "\n",
              "    .dataframe thead th {\n",
              "        text-align: right;\n",
              "    }\n",
              "</style>\n",
              "<table border=\"1\" class=\"dataframe\">\n",
              "  <thead>\n",
              "    <tr style=\"text-align: right;\">\n",
              "      <th></th>\n",
              "      <th>0</th>\n",
              "    </tr>\n",
              "  </thead>\n",
              "  <tbody>\n",
              "    <tr>\n",
              "      <th>id</th>\n",
              "      <td>0</td>\n",
              "    </tr>\n",
              "    <tr>\n",
              "      <th>date</th>\n",
              "      <td>0</td>\n",
              "    </tr>\n",
              "    <tr>\n",
              "      <th>city</th>\n",
              "      <td>0</td>\n",
              "    </tr>\n",
              "    <tr>\n",
              "      <th>lat</th>\n",
              "      <td>0</td>\n",
              "    </tr>\n",
              "    <tr>\n",
              "      <th>long</th>\n",
              "      <td>0</td>\n",
              "    </tr>\n",
              "    <tr>\n",
              "      <th>pop</th>\n",
              "      <td>0</td>\n",
              "    </tr>\n",
              "    <tr>\n",
              "      <th>shop</th>\n",
              "      <td>0</td>\n",
              "    </tr>\n",
              "    <tr>\n",
              "      <th>brand</th>\n",
              "      <td>0</td>\n",
              "    </tr>\n",
              "    <tr>\n",
              "      <th>container</th>\n",
              "      <td>0</td>\n",
              "    </tr>\n",
              "    <tr>\n",
              "      <th>capacity</th>\n",
              "      <td>0</td>\n",
              "    </tr>\n",
              "    <tr>\n",
              "      <th>price</th>\n",
              "      <td>0</td>\n",
              "    </tr>\n",
              "    <tr>\n",
              "      <th>quantity</th>\n",
              "      <td>0</td>\n",
              "    </tr>\n",
              "  </tbody>\n",
              "</table>\n",
              "</div><br><label><b>dtype:</b> int64</label>"
            ]
          },
          "metadata": {},
          "execution_count": 4
        }
      ],
      "source": [
        "df.isnull().sum()"
      ]
    },
    {
      "cell_type": "markdown",
      "metadata": {
        "cell_id": "b50db6f2cb804932ae3f9e5748a6ea61",
        "deepnote_cell_type": "markdown",
        "id": "pk4ru76pI5v_"
      },
      "source": [
        "## 1 Generando un Baseline (5 puntos)\n",
        "\n",
        "<p align=\"center\">\n",
        "  <img src=\"https://media.tenor.com/O-lan6TkadUAAAAC/what-i-wnna-do-after-a-baseline.gif\">\n",
        "</p>\n",
        "\n",
        "Antes de entrenar un algoritmo, usted recuerda los apuntes de su magíster en ciencia de datos y recuerda que debe seguir una serie de *buenas prácticas* para entrenar correcta y debidamente su modelo. Después de un par de vueltas, llega a las siguientes tareas:\n",
        "\n",
        "1. Separe los datos en conjuntos de train (70%), validation (20%) y test (10%). Fije una semilla para controlar la aleatoriedad. [0.5 puntos]\n",
        "2. Implemente un `FunctionTransformer` para extraer el día, mes y año de la variable `date`. Guarde estas variables en el formato categorical de pandas. [1 punto]\n",
        "3. Implemente un `ColumnTransformer` para procesar de manera adecuada los datos numéricos y categóricos. Use `OneHotEncoder` para las variables categóricas. `Nota:` Utilice el método `.set_output(transform='pandas')` para obtener un DataFrame como salida del `ColumnTransformer` [1 punto]\n",
        "4. Guarde los pasos anteriores en un `Pipeline`, dejando como último paso el regresor `DummyRegressor` para generar predicciones en base a promedios. [0.5 punto]\n",
        "5. Entrene el pipeline anterior y reporte la métrica `mean_absolute_error` sobre los datos de validación. ¿Cómo se interpreta esta métrica para el contexto del negocio? [0.5 puntos]\n",
        "6. Finalmente, vuelva a entrenar el `Pipeline` pero esta vez usando `XGBRegressor` como modelo **utilizando los parámetros por default**. ¿Cómo cambia el MAE al implementar este algoritmo? ¿Es mejor o peor que el `DummyRegressor`? [1 punto]\n",
        "7. Guarde ambos modelos en un archivo .pkl (uno cada uno) [0.5 puntos]"
      ]
    },
    {
      "cell_type": "code",
      "execution_count": 23,
      "metadata": {
        "colab": {
          "base_uri": "https://localhost:8080/"
        },
        "id": "E_b3SNVLt5Rv",
        "outputId": "19da70c9-f876-4d74-a535-c45219e716ff"
      },
      "outputs": [
        {
          "output_type": "stream",
          "name": "stdout",
          "text": [
            "Mean Absolute Error del DummyRegressor en validación: 13254.740836794412\n"
          ]
        }
      ],
      "source": [
        "import pandas as pd\n",
        "from sklearn.model_selection import train_test_split\n",
        "from sklearn.preprocessing import FunctionTransformer\n",
        "from sklearn.compose import ColumnTransformer\n",
        "from sklearn.preprocessing import OneHotEncoder\n",
        "from sklearn.pipeline import Pipeline\n",
        "from sklearn.dummy import DummyRegressor\n",
        "from sklearn.metrics import mean_absolute_error\n",
        "import numpy as np\n",
        "\n",
        "#----------# 1\n",
        "# Semilla\n",
        "seed = 123\n",
        "\n",
        "# Separamos los datos en train, validation y test\n",
        "train_df, temp_df = train_test_split(df, test_size=0.3, random_state=seed)\n",
        "val_df, test_df = train_test_split(temp_df, test_size=(1/3), random_state=seed)\n",
        "\n",
        "# Separar las características y la variable objetivo\n",
        "X_train = train_df.drop(columns=['quantity'])\n",
        "y_train = train_df['quantity']\n",
        "\n",
        "X_val = val_df.drop(columns=['quantity'])\n",
        "y_val = val_df['quantity']\n",
        "\n",
        "X_test = test_df.drop(columns=['quantity'])\n",
        "y_test = test_df['quantity']\n",
        "\n",
        "#----------# 2\n",
        "# Extraer día, mes y año de 'date'\n",
        "def extract_date_features(df):\n",
        "    df['date'] = pd.to_datetime(df['date'], format='%d/%m/%y')\n",
        "    df['year'] = df['date'].dt.year.astype('category')\n",
        "    df['month'] = df['date'].dt.month.astype('category')\n",
        "    df['day'] = df['date'].dt.day.astype('category')\n",
        "    return df\n",
        "\n",
        "# Aplicar el transformer de fecha\n",
        "X_train = extract_date_features(X_train)\n",
        "X_val = extract_date_features(X_val)\n",
        "X_test = extract_date_features(X_test)\n",
        "\n",
        "#----------# 3\n",
        "# Numéricas\n",
        "num_col = ['pop', 'price', 'lat', 'long']  # que transformaremos\n",
        "cat_col = ['city', 'shop', 'brand', 'container', 'capacity']  # que transformaremos\n",
        "pass_cols = ['year', 'month', 'day'] # no transformaremos\n",
        "\n",
        "# Transformer de numéricas\n",
        "num_transformer = Pipeline(steps=[\n",
        "  ('log_transformer', FunctionTransformer(np.log1p))\n",
        "])\n",
        "\n",
        "# Transformer de categóricas\n",
        "cat_transformer = Pipeline(steps=[\n",
        "    ('onehot', OneHotEncoder(handle_unknown='ignore', sparse_output=False))\n",
        "])\n",
        "\n",
        "# Crear el ColumnTransformer\n",
        "preprocessor = ColumnTransformer(\n",
        "     transformers=[\n",
        "         ('passthrough', 'passthrough', pass_cols),\n",
        "        ('log', num_transformer, num_col),\n",
        "        ('onehot', cat_transformer, cat_col)\n",
        "    ]\n",
        ")\n",
        "\n",
        "# Ajustar el preprocessor al conjunto de datos de entrenamiento\n",
        "preprocessor.set_output(transform='pandas')\n",
        "preprocessor.fit(X_train)\n",
        "\n",
        "# Transformar los datasets\n",
        "X_train_transformed = preprocessor.transform(X_train)\n",
        "X_val_transformed = preprocessor.transform(X_val)\n",
        "X_test_transformed = preprocessor.transform(X_test)\n",
        "\n",
        "# Renombrar las columnas para evitar los prefijos '__'\n",
        "X_train_transformed.columns = [col.split('__')[-1] for col in X_train_transformed.columns]\n",
        "X_val_transformed.columns = [col.split('__')[-1] for col in X_val_transformed.columns]\n",
        "X_test_transformed.columns = [col.split('__')[-1] for col in X_test_transformed.columns]\n",
        "\n",
        "#----------# 4\n",
        "# Crear el Pipeline con los pasos anteriores y agregar el DummyRegressor\n",
        "model_pipeline = Pipeline(steps=[\n",
        "    ('preprocessor', preprocessor),\n",
        "    ('regressor', DummyRegressor(strategy='mean'))\n",
        "])\n",
        "\n",
        "#----------# 5\n",
        "# Entrenar el pipeline con los datos transformados\n",
        "model_pipeline.fit(X_train, y_train)\n",
        "\n",
        "# Predecir en el conjunto de validación\n",
        "val_predictions = model_pipeline.predict(X_val)\n",
        "\n",
        "# Calcular el MAE en el conjunto de validación\n",
        "mae_dummy = mean_absolute_error(y_val, val_predictions)\n",
        "\n",
        "# Mostrar el MAE\n",
        "print(f\"Mean Absolute Error del DummyRegressor en validación: {mae_dummy}\")\n"
      ]
    },
    {
      "cell_type": "markdown",
      "metadata": {
        "id": "84MxlJ_KtNZJ"
      },
      "source": [
        "Para el contexto del negocio, significa que si la demanda real de una bebida es, por ejemplo, de 20.000 bebidas de cierto tipo, se está prediciendo, en promedio, un valor que se desvía 13.255 unidades del valor real, ya sea por sobreestimando o subestimando (\"20.000 +-\n",
        "13.254\")."
      ]
    },
    {
      "cell_type": "code",
      "execution_count": 24,
      "metadata": {
        "colab": {
          "base_uri": "https://localhost:8080/"
        },
        "id": "wLe_mcn1jW6W",
        "outputId": "dd298443-fb07-4601-cbfc-5bcf42d96c7d"
      },
      "outputs": [
        {
          "output_type": "execute_result",
          "data": {
            "text/plain": [
              "2439.6775216730066"
            ]
          },
          "metadata": {},
          "execution_count": 24
        }
      ],
      "source": [
        "#----------# 6\n",
        "from xgboost import XGBRegressor\n",
        "\n",
        "# Pipeline con XGBRegressor\n",
        "xgb_pipeline = Pipeline(steps=[\n",
        "    ('preprocessor', preprocessor),\n",
        "    ('regressor', XGBRegressor())\n",
        "])\n",
        "\n",
        "# Convertir las columnas categóricas 'year', 'month' y 'day' a tipos enteros antes de ajustar XGBoost\n",
        "X_train['year'] = X_train['year'].astype(int)\n",
        "X_train['month'] = X_train['month'].astype(int)\n",
        "X_train['day'] = X_train['day'].astype(int)\n",
        "\n",
        "X_val['year'] = X_val['year'].astype(int)\n",
        "X_val['month'] = X_val['month'].astype(int)\n",
        "X_val['day'] = X_val['day'].astype(int)\n",
        "\n",
        "X_test['year'] = X_test['year'].astype(int)\n",
        "X_test['month'] = X_test['month'].astype(int)\n",
        "X_test['day'] = X_test['day'].astype(int)\n",
        "\n",
        "# Re-entrenar el pipeline con XGBRegressor\n",
        "xgb_pipeline.fit(X_train, y_train)\n",
        "\n",
        "# Predecir en el conjunto de validación usando XGBRegressor\n",
        "val_predictions_xgb = xgb_pipeline.predict(X_val)\n",
        "\n",
        "# Calcular el Error Absoluto Medio (MAE) en el conjunto de validación para XGBRegressor\n",
        "mae_xgb = mean_absolute_error(y_val, val_predictions_xgb)\n",
        "\n",
        "mae_xgb"
      ]
    },
    {
      "cell_type": "markdown",
      "metadata": {
        "id": "4XQjZIAVuB39"
      },
      "source": [
        "Podemos observar que el MAE disminuye aproximadamente de una demanda de 13.254 bebidas a una demanda de 2.440 bebidas lo cual es una diferencia bastante considerable.\n",
        "\n",
        "Esto nos hace entender que xgb tiene una mejor capacidad predictiva en comparación al dummy regressor al desviarse menos del valor real."
      ]
    },
    {
      "cell_type": "code",
      "execution_count": 7,
      "metadata": {
        "colab": {
          "base_uri": "https://localhost:8080/"
        },
        "id": "LGH54XAOrAoN",
        "outputId": "94e751ac-37f0-4de5-9294-253ffde98961"
      },
      "outputs": [
        {
          "output_type": "stream",
          "name": "stdout",
          "text": [
            "Mounted at /content/drive\n"
          ]
        }
      ],
      "source": [
        "from google.colab import drive\n",
        "drive.mount('/content/drive')"
      ]
    },
    {
      "cell_type": "code",
      "execution_count": 8,
      "metadata": {
        "id": "lf38wnKRqWpR"
      },
      "outputs": [],
      "source": [
        "#----------# 7\n",
        "import pickle\n",
        "\n",
        "# Guardar el modelo DummyRegressor en Google Drive\n",
        "with open('/content/drive/MyDrive/dummy_regressor.pkl', 'wb') as dummy_file:\n",
        "    pickle.dump(model_pipeline, dummy_file)\n",
        "\n",
        "# Guardar el modelo XGBRegressor en Google Drive\n",
        "with open('/content/drive/MyDrive/xgb_regressor.pkl', 'wb') as xgb_file:\n",
        "    pickle.dump(xgb_pipeline, xgb_file)\n"
      ]
    },
    {
      "cell_type": "code",
      "execution_count": 9,
      "metadata": {
        "id": "FSDHW26XqzmT"
      },
      "outputs": [],
      "source": [
        "import pickle\n",
        "\n",
        "# Cargar el modelo DummyRegressor desde Google Drive\n",
        "with open('/content/drive/MyDrive/dummy_regressor.pkl', 'rb') as dummy_file:\n",
        "    dummy_model = pickle.load(dummy_file)\n",
        "\n",
        "# Cargar el modelo XGBRegressor desde Google Drive\n",
        "with open('/content/drive/MyDrive/xgb_regressor.pkl', 'rb') as xgb_file:\n",
        "    xgb_model = pickle.load(xgb_file)\n"
      ]
    },
    {
      "cell_type": "markdown",
      "metadata": {
        "cell_id": "7e17e46063774ec28226fe300d42ffe0",
        "deepnote_cell_type": "markdown",
        "id": "wnyMINdKI5v_"
      },
      "source": [
        "## 2. Forzando relaciones entre parámetros con XGBoost (10 puntos)\n",
        "\n",
        "<p align=\"center\">\n",
        "  <img src=\"https://64.media.tumblr.com/14cc45f9610a6ee341a45fd0d68f4dde/20d11b36022bca7b-bf/s640x960/67ab1db12ff73a530f649ac455c000945d99c0d6.gif\">\n",
        "</p>\n",
        "\n",
        "Un colega aficionado a la economía le *sopla* que la demanda guarda una relación inversa con el precio del producto. Motivado para impresionar al querido corpóreo, se propone hacer uso de esta información para mejorar su modelo realizando las siguientes tareas:\n",
        "\n",
        "1. Vuelva a entrenar el `Pipeline` con `XGBRegressor`, pero esta vez forzando una relación monótona negativa entre el precio y la cantidad. Para aplicar esta restricción apóyese en la siguiente <a href = https://xgboost.readthedocs.io/en/stable/tutorials/monotonic.html>documentación</a>. [6 puntos]\n",
        "\n",
        ">Hint 1: Para implementar el constraint se le sugiere hacerlo especificando el nombre de la variable. De ser así, probablemente le sea útil **mantener el formato de pandas** antes del step de entrenamiento.\n",
        "\n",
        ">Hint 2: Puede obtener el nombre de las columnas en el paso anterior al modelo regresor mediante el método `.get_feature_names_out()`\n",
        "\n",
        "2. Luego, vuelva a reportar el `MAE` sobre el conjunto de validación. [1 puntos]\n",
        "\n",
        "3. ¿Cómo cambia el error al incluir esta relación? ¿Tenía razón su amigo? [2 puntos]\n",
        "\n",
        "4. Guarde su modelo en un archivo .pkl [1 punto]"
      ]
    },
    {
      "cell_type": "code",
      "execution_count": 37,
      "metadata": {
        "cell_id": "f469f3b572be434191d2d5c3f11b20d2",
        "deepnote_cell_type": "code",
        "id": "B7tMnkiAI5v_",
        "colab": {
          "base_uri": "https://localhost:8080/"
        },
        "outputId": "c101553f-4854-4b06-87cf-3b02a8af1623"
      },
      "outputs": [
        {
          "output_type": "stream",
          "name": "stdout",
          "text": [
            "MAE en validación (XGBRegressor con constraint de monotonía): 2530.596669371699\n"
          ]
        }
      ],
      "source": [
        "# Inserte su código acá\n",
        "\n",
        "X_train_transformed = preprocessor.fit_transform(X_train)\n",
        "X_val_transformed = preprocessor.transform(X_val)\n",
        "\n",
        "# convertir sin usar get feature names\n",
        "X_train_df = pd.DataFrame(X_train_transformed, columns=X_train_transformed.columns if isinstance(X_train_transformed, pd.DataFrame) else preprocessor.transformers_[0][2] + num_col + cat_col)\n",
        "X_val_df = pd.DataFrame(X_val_transformed, columns=X_train_df.columns)  # Mantener las mismas columnas en X_val_df\n",
        "\n",
        "# definir constrainsts como diccionario\n",
        "monotonic_constraints = {col: 0 for col in X_train_df.columns}\n",
        "monotonic_constraints[\"log__price\"] = -1  # relacion negativa price\n",
        "\n",
        "xgb_regressor = XGBRegressor(monotone_constraints=monotonic_constraints)\n",
        "xgb_regressor.fit(X_train_df, y_train)\n",
        "\n",
        "y_val_pred_xgb = xgb_regressor.predict(X_val_df)\n",
        "mae_xgb = mean_absolute_error(y_val, y_val_pred_xgb)\n",
        "\n",
        "print(f\"MAE en validación (XGBRegressor con constraint de monotonía): {mae_xgb}\")"
      ]
    },
    {
      "cell_type": "code",
      "source": [
        "xgb_pipeline = Pipeline(steps=[\n",
        "    ('preprocessor', preprocessor),\n",
        "    ('xgb_regressor', XGBRegressor())\n",
        "])\n",
        "\n",
        "xgb_pipeline.named_steps['xgb_regressor'].set_params(monotone_constraints=monotonic_constraints)\n",
        "\n",
        "# Entrenar el pipeline\n",
        "xgb_pipeline.fit(X_train, y_train)\n",
        "\n",
        "# Predicción en validación y cálculo del MAE\n",
        "y_val_pred_xgb = xgb_pipeline.predict(X_val)\n",
        "mae_xgb = mean_absolute_error(y_val, y_val_pred_xgb)\n",
        "print(f'MAE en validación (XGBRegressor con constraint de monotonía): {mae_xgb}')"
      ],
      "metadata": {
        "colab": {
          "base_uri": "https://localhost:8080/"
        },
        "id": "TMeRvpQZrodv",
        "outputId": "803a9e5f-b071-464a-e841-909469aaa5c5"
      },
      "execution_count": 38,
      "outputs": [
        {
          "output_type": "stream",
          "name": "stdout",
          "text": [
            "MAE en validación (XGBRegressor con constraint de monotonía): 2530.596669371699\n"
          ]
        }
      ]
    },
    {
      "cell_type": "code",
      "source": [
        "# Guardar el modelo XGBRegressor en Google Drive\n",
        "with open('/content/drive/MyDrive/xgb_regressor.pkl', 'wb') as xgb_file:\n",
        "    pickle.dump(xgb_pipeline, xgb_file)"
      ],
      "metadata": {
        "id": "PPlx4N02rSCf"
      },
      "execution_count": null,
      "outputs": []
    },
    {
      "cell_type": "markdown",
      "source": [
        "**Respuesta**: Al comparar el MAE obtenido con el XGBRegressor anterior, se observa que este aumenta, lo que sugiere que el modelo sin restricciones se ajustaba mejor a los datos observados, aunque teoricamente se espera que la demanda disminuya cuando el precio aumenta, que es una relacion inversa comun en economia. Esto puede deberse a que existan otros factores en los datos que influyen en la demanda y no siempre siguen una relacion negativa con el precio."
      ],
      "metadata": {
        "id": "9WEphQUzr-w_"
      }
    },
    {
      "cell_type": "markdown",
      "metadata": {
        "cell_id": "e59ef80ed20b4de8921f24da74e87374",
        "deepnote_cell_type": "markdown",
        "id": "5D5-tX4dI5v_"
      },
      "source": [
        "## 1.3 Optimización de Hiperparámetros con Optuna (20 puntos)\n",
        "\n",
        "<p align=\"center\">\n",
        "  <img src=\"https://media.tenor.com/fmNdyGN4z5kAAAAi/hacking-lucy.gif\">\n",
        "</p>\n",
        "\n",
        "Luego de presentarle sus resultados, Fiu le pregunta si es posible mejorar *aun más* su modelo. En particular, le comenta de la optimización de hiperparámetros con metodologías bayesianas a través del paquete `optuna`. Como usted es un aficionado al entrenamiento de modelos de ML, se propone implementar la descabellada idea de su jefe.\n",
        "\n",
        "A partir de la mejor configuración obtenida en la sección anterior, utilice `optuna` para optimizar sus hiperparámetros. En particular, se pide que su optimización considere lo siguiente:\n",
        "\n",
        "- Fijar una semilla en las instancias necesarias para garantizar la reproducibilidad de resultados\n",
        "- Utilice `TPESampler` como método de muestreo\n",
        "- De `XGBRegressor`, optimice los siguientes hiperparámetros:\n",
        "    - `learning_rate` buscando valores flotantes en el rango (0.001, 0.1)\n",
        "    - `n_estimators` buscando valores enteros en el rango (50, 1000)\n",
        "    - `max_depth` buscando valores enteros en el rango (3, 10)\n",
        "    - `max_leaves` buscando valores enteros en el rango (0, 100)\n",
        "    - `min_child_weight` buscando valores enteros en el rango (1, 5)\n",
        "    - `reg_alpha` buscando valores flotantes en el rango (0, 1)\n",
        "    - `reg_lambda` buscando valores flotantes en el rango (0, 1)\n",
        "- De `OneHotEncoder`, optimice el hiperparámetro `min_frequency` buscando el mejor valor flotante en el rango (0.0, 1.0)\n",
        "\n",
        "Para ello se pide los siguientes pasos:\n",
        "1. Implemente una función `objective()` que permita minimizar el `MAE` en el conjunto de validación. Use el método `.set_user_attr()` para almacenar el mejor pipeline entrenado. [10 puntos]\n",
        "2. Fije el tiempo de entrenamiento a 5 minutos. [1 punto]\n",
        "3. Optimizar el modelo y reportar el número de *trials*, el `MAE` y los mejores hiperparámetros encontrados. ¿Cómo cambian sus resultados con respecto a la sección anterior? ¿A qué se puede deber esto? [3 puntos]\n",
        "4. Explique cada hiperparámetro y su rol en el modelo. ¿Hacen sentido los rangos de optimización indicados? [5 puntos]\n",
        "5. Guardar su modelo en un archivo .pkl [1 punto]"
      ]
    },
    {
      "cell_type": "code",
      "execution_count": 41,
      "metadata": {
        "cell_id": "de5914621cc64cb0b1bacb9ff565a97e",
        "deepnote_cell_type": "code",
        "id": "kMXXi1ckI5v_"
      },
      "outputs": [],
      "source": [
        "import optuna\n",
        "from optuna.samplers import TPESampler\n",
        "import time\n",
        "optuna.logging.set_verbosity(optuna.logging.WARNING)\n",
        "# Inserte su código acá\n",
        "\n",
        "def objective(trial):\n",
        "    # Inserte su código acá\n",
        "    min_frequency = trial.suggest_float('onehot_min_frequency', 0.0, 1.0)\n",
        "\n",
        "    learning_rate = trial.suggest_float('learning_rate', 0.001, 0.1)\n",
        "    n_estimators = trial.suggest_int('n_estimators', 50, 1000)\n",
        "    max_depth = trial.suggest_int('max_depth', 3, 10)\n",
        "    max_leaves = trial.suggest_int('max_leaves', 0, 100)\n",
        "    min_child_weight = trial.suggest_int('min_child_weight', 1, 5)\n",
        "    reg_alpha = trial.suggest_float('reg_alpha', 0, 1)\n",
        "    reg_lambda = trial.suggest_float('reg_lambda', 0, 1)\n",
        "\n",
        "    # Crear el preprocesador con el OneHotEncoder optimizado\n",
        "    preprocessor = ColumnTransformer(\n",
        "        transformers=[\n",
        "            ('passthrough', 'passthrough', pass_cols),\n",
        "            ('log', FunctionTransformer(np.log1p), num_col),\n",
        "            ('onehot', OneHotEncoder(handle_unknown='ignore', sparse_output=False, min_frequency=min_frequency), cat_col)\n",
        "        ]\n",
        "    ).set_output(transform='pandas')\n",
        "\n",
        "    # Transformar los datos de entrenamiento y validación\n",
        "    X_train_transformed = preprocessor.fit_transform(X_train)\n",
        "    X_val_transformed = preprocessor.transform(X_val)\n",
        "\n",
        "    # Convertir a DataFrame sin usar get_feature_names_out\n",
        "    X_train_df = pd.DataFrame(X_train_transformed, columns=X_train_transformed.columns if isinstance(X_train_transformed, pd.DataFrame) else preprocessor.transformers_[0][2] + num_col + cat_col)\n",
        "    X_val_df = pd.DataFrame(X_val_transformed, columns=X_train_df.columns)  # Mantener las mismas columnas en X_val_df\n",
        "\n",
        "    # Definir monotonic_constraints como diccionario\n",
        "    monotonic_constraints = {col: 0 for col in X_train_df.columns}\n",
        "    if \"log__price\" in X_train_df.columns:\n",
        "        monotonic_constraints[\"log__price\"] = -1  # Relación negativa en 'price'\n",
        "\n",
        "    # Crear el modelo XGBRegressor con los constraints aplicados como diccionario\n",
        "    model = XGBRegressor(\n",
        "        learning_rate=learning_rate,\n",
        "        n_estimators=n_estimators,\n",
        "        max_depth=max_depth,\n",
        "        max_leaves=max_leaves,\n",
        "        min_child_weight=min_child_weight,\n",
        "        reg_alpha=reg_alpha,\n",
        "        reg_lambda=reg_lambda,\n",
        "        monotone_constraints=monotonic_constraints,\n",
        "        random_state=123\n",
        "    )\n",
        "\n",
        "    # Entrenar el modelo directamente sobre los datos transformados\n",
        "    start_time = time.time()\n",
        "    model.fit(X_train_df, y_train)\n",
        "    train_time = time.time() - start_time\n",
        "\n",
        "    # Predecir en el conjunto de validación\n",
        "    y_val_pred = model.predict(X_val_df)\n",
        "    mae = mean_absolute_error(y_val, y_val_pred)\n",
        "\n",
        "    # Almacenar el modelo si el entrenamiento fue menor a 5 minutos\n",
        "    if train_time <= 300:  # 300 segundos = 5 minutos\n",
        "        trial.set_user_attr(\"best_model\", model)\n",
        "\n",
        "    return mae"
      ]
    },
    {
      "cell_type": "code",
      "source": [
        "study = optuna.create_study(direction='minimize', sampler=TPESampler(seed=123))\n",
        "study.optimize(objective, timeout=300)  # Limitar el tiempo total de entrenamiento\n",
        "\n",
        "# Resultados\n",
        "print(f'Número de trials: {len(study.trials)}')\n",
        "print(f'Mejor MAE: {study.best_value}')\n",
        "print(f'Mejores hiperparámetros: {study.best_params}')"
      ],
      "metadata": {
        "colab": {
          "base_uri": "https://localhost:8080/"
        },
        "id": "5q0sGIUvtlDo",
        "outputId": "cc5e5614-ab80-46ff-ce7a-b3cf581c8f9c"
      },
      "execution_count": 42,
      "outputs": [
        {
          "output_type": "stream",
          "name": "stdout",
          "text": [
            "Número de trials: 154\n",
            "Mejor MAE: 1967.332922174977\n",
            "Mejores hiperparámetros: {'onehot_min_frequency': 0.058416440731259844, 'learning_rate': 0.0909460097764785, 'n_estimators': 663, 'max_depth': 10, 'max_leaves': 98, 'min_child_weight': 3, 'reg_alpha': 0.298263291733435, 'reg_lambda': 0.36886775104326397}\n"
          ]
        }
      ]
    },
    {
      "cell_type": "markdown",
      "source": [
        "**Respuesta**: Se observa que el modelo optimizado con optuna reduce significativamente en MAE, lo que indica una mejora en la precision del modelo. Esto se puede deber.a que los hiperparametros permiten al modelo ser mas flexible y precisio al capturar relaciones entre los datos, lo que permite una generalizacion sin depender estrictamente de una relacion inversa entre precio-cantidad.\n",
        "\n",
        "* learning_rate: este hiperparametro controla la velocidad de aprendizaje, equilibrando la precision y el overfitting. Con un valor de 0.0909 cercano al limite superior del rango, permite que el modelo tenga un aprendizaje rapido y estable, adecuado para un modelo con n_estimators=663. El rango tiene sentido ya que valores bajos ayudan a evitar un ajuste demasiado rapido.\n",
        "* n_estimators: representa el numero de arboles en un modelo, lo que indica que el modelo requiere una cantidad razonable para lograr un buen ajuste. El rango es adecuado, lo que permite tener desde modelos simples hasta mas complejos como el resultado obtenido.\n",
        "* max_depth: define la profundidad maxima de cada arbol, y al tener 10 permite capturar patrones mas detallados en los datos sin ser tan complejo. El rango tambien hace sentido ya que profundidades menores ofrecen opciones para modelos msa simples\n",
        "* max_leaves: limita el numero maximo de hojas en cada arbol, el modelo tiene un numero alto de divisiones (98), asi capturando relaciones complejas. El rango es amplo, permitiendo al modelo dividiones minimas como mas detalladas\n",
        "* min_child_weight: controla el peso minimo  de obsevaciones en una hoja, con un valor igual a 3, establece un balance para evitar ramas poco representativas, reduciendo asi el overfitting.\n",
        "* reg_alpha: es un parametro de regularizacion L1, que ayuda a evitar el overfitting penalizando la magnitud de los coeficientes.\n",
        "* reg_lambda: es otro parametro de regularizacion L2 que tambien evita el overfitting pero penaliza de manera distinta.\n",
        "* min_frequency: controla la frecuencia minima de una categoria para incluirla (hiperparametro de onehotencoder). Al obtener 0.0584, significa que se excluyen categorias con menos del 5.84% de aparicion, lo que ayuda a reducir el ruido."
      ],
      "metadata": {
        "id": "mcNRFMr3uKNb"
      }
    },
    {
      "cell_type": "code",
      "source": [
        "# Guardar el modelo XGBRegressor en Google Drive\n",
        "best_model = study.best_trial.user_attrs[\"best_model\"]\n",
        "\n",
        "with open('/content/drive/MyDrive/mejor_modelo_xgb.pkl', 'wb') as xgb_file:\n",
        "    pickle.dump(best_model, xgb_file)"
      ],
      "metadata": {
        "id": "qEvxTr2ZuTwa"
      },
      "execution_count": null,
      "outputs": []
    },
    {
      "cell_type": "markdown",
      "metadata": {
        "cell_id": "5195ccfc37e044ad9453f6eb2754f631",
        "deepnote_cell_type": "markdown",
        "id": "ZglyD_QWI5wA"
      },
      "source": [
        "## 4. Optimización de Hiperparámetros con Optuna y Prunners (17 puntos)\n",
        "\n",
        "<p align=\"center\">\n",
        "  <img src=\"https://i.pinimg.com/originals/90/16/f9/9016f919c2259f3d0e8fe465049638a7.gif\">\n",
        "</p>\n",
        "\n",
        "Después de optimizar el rendimiento de su modelo varias veces, Fiu le pregunta si no es posible optimizar el entrenamiento del modelo en sí mismo. Después de leer un par de post de personas de dudosa reputación en la *deepweb*, usted llega a la conclusión que puede cumplir este objetivo mediante la implementación de **Prunning**.\n",
        "\n",
        "Vuelva a optimizar los mismos hiperparámetros que la sección pasada, pero esta vez utilizando **Prunning** en la optimización. En particular, usted debe:\n",
        "\n",
        "- Responder: ¿Qué es prunning? ¿De qué forma debería impactar en el entrenamiento? [2 puntos]\n",
        "- Redefinir la función `objective()` utilizando `optuna.integration.XGBoostPruningCallback` como método de **Prunning** [10 puntos]\n",
        "- Fijar nuevamente el tiempo de entrenamiento a 5 minutos [1 punto]\n",
        "- Reportar el número de *trials*, el `MAE` y los mejores hiperparámetros encontrados. ¿Cómo cambian sus resultados con respecto a la sección anterior? ¿A qué se puede deber esto? [3 puntos]\n",
        "- Guardar su modelo en un archivo .pkl [1 punto]\n",
        "\n",
        "Nota: Si quieren silenciar los prints obtenidos en el prunning, pueden hacerlo mediante el siguiente comando:\n",
        "\n",
        "```\n",
        "optuna.logging.set_verbosity(optuna.logging.WARNING)\n",
        "```\n",
        "\n",
        "De implementar la opción anterior, pueden especificar `show_progress_bar = True` en el método `optimize` para *más sabor*.\n",
        "\n",
        "Hint: Si quieren especificar parámetros del método .fit() del modelo a través del pipeline, pueden hacerlo por medio de la siguiente sintaxis: `pipeline.fit(stepmodelo__parametro = valor)`\n",
        "\n",
        "Hint2: Este <a href = https://stackoverflow.com/questions/40329576/sklearn-pass-fit-parameters-to-xgboost-in-pipeline>enlace</a> les puede ser de ayuda en su implementación"
      ]
    },
    {
      "cell_type": "markdown",
      "source": [
        "**Respuesta**: El prunning es una tecnica para detener automaticamente los trials que muestran bajo rendimiento durante las primeras etapas de entrenamiento, eliminandolas antes de terminar. Esto permite que se utilice el tiempo de optimizacion en trials mas prometedores, lo que reduce el tiempo de entrenamiento general y acelera el proceso de busqueda de hiperparamentros. Al utilizar esta tecnica, se deberia notar una reduccion en el tiempo total de optimizacion sin afectar la precision final del modelo, ya que los trials menos prometedores se descartan."
      ],
      "metadata": {
        "id": "67-TP4Md0FCh"
      }
    },
    {
      "cell_type": "code",
      "execution_count": 45,
      "metadata": {
        "id": "aTOdJRn3lCLs",
        "colab": {
          "base_uri": "https://localhost:8080/"
        },
        "outputId": "7722ad0d-e307-49b7-9b61-bafa36f22666"
      },
      "outputs": [
        {
          "output_type": "stream",
          "name": "stdout",
          "text": [
            "Collecting optuna-integration[xgboost]\n",
            "  Downloading optuna_integration-4.0.0-py3-none-any.whl.metadata (11 kB)\n",
            "Requirement already satisfied: optuna in /usr/local/lib/python3.10/dist-packages (from optuna-integration[xgboost]) (4.0.0)\n",
            "Requirement already satisfied: xgboost in /usr/local/lib/python3.10/dist-packages (from optuna-integration[xgboost]) (2.1.1)\n",
            "Requirement already satisfied: alembic>=1.5.0 in /usr/local/lib/python3.10/dist-packages (from optuna->optuna-integration[xgboost]) (1.13.3)\n",
            "Requirement already satisfied: colorlog in /usr/local/lib/python3.10/dist-packages (from optuna->optuna-integration[xgboost]) (6.8.2)\n",
            "Requirement already satisfied: numpy in /usr/local/lib/python3.10/dist-packages (from optuna->optuna-integration[xgboost]) (1.26.4)\n",
            "Requirement already satisfied: packaging>=20.0 in /usr/local/lib/python3.10/dist-packages (from optuna->optuna-integration[xgboost]) (24.1)\n",
            "Requirement already satisfied: sqlalchemy>=1.3.0 in /usr/local/lib/python3.10/dist-packages (from optuna->optuna-integration[xgboost]) (2.0.36)\n",
            "Requirement already satisfied: tqdm in /usr/local/lib/python3.10/dist-packages (from optuna->optuna-integration[xgboost]) (4.66.5)\n",
            "Requirement already satisfied: PyYAML in /usr/local/lib/python3.10/dist-packages (from optuna->optuna-integration[xgboost]) (6.0.2)\n",
            "Requirement already satisfied: nvidia-nccl-cu12 in /usr/local/lib/python3.10/dist-packages (from xgboost->optuna-integration[xgboost]) (2.23.4)\n",
            "Requirement already satisfied: scipy in /usr/local/lib/python3.10/dist-packages (from xgboost->optuna-integration[xgboost]) (1.13.1)\n",
            "Requirement already satisfied: Mako in /usr/local/lib/python3.10/dist-packages (from alembic>=1.5.0->optuna->optuna-integration[xgboost]) (1.3.6)\n",
            "Requirement already satisfied: typing-extensions>=4 in /usr/local/lib/python3.10/dist-packages (from alembic>=1.5.0->optuna->optuna-integration[xgboost]) (4.12.2)\n",
            "Requirement already satisfied: greenlet!=0.4.17 in /usr/local/lib/python3.10/dist-packages (from sqlalchemy>=1.3.0->optuna->optuna-integration[xgboost]) (3.1.1)\n",
            "Requirement already satisfied: MarkupSafe>=0.9.2 in /usr/local/lib/python3.10/dist-packages (from Mako->alembic>=1.5.0->optuna->optuna-integration[xgboost]) (3.0.2)\n",
            "Downloading optuna_integration-4.0.0-py3-none-any.whl (96 kB)\n",
            "\u001b[2K   \u001b[90m━━━━━━━━━━━━━━━━━━━━━━━━━━━━━━━━━━━━━━━━\u001b[0m \u001b[32m96.9/96.9 kB\u001b[0m \u001b[31m3.1 MB/s\u001b[0m eta \u001b[36m0:00:00\u001b[0m\n",
            "\u001b[?25hInstalling collected packages: optuna-integration\n",
            "Successfully installed optuna-integration-4.0.0\n"
          ]
        }
      ],
      "source": [
        "!pip install optuna-integration[xgboost]"
      ]
    },
    {
      "cell_type": "code",
      "source": [
        "from optuna.integration import XGBoostPruningCallback"
      ],
      "metadata": {
        "id": "HDb8z-v7zd70"
      },
      "execution_count": 46,
      "outputs": []
    },
    {
      "cell_type": "code",
      "execution_count": 53,
      "metadata": {
        "cell_id": "eeaa967cd8f6426d8c54f276c17dce79",
        "deepnote_cell_type": "code",
        "id": "sST6Wtj5I5wA"
      },
      "outputs": [],
      "source": [
        "# Inserte su código acá\n",
        "optuna.logging.set_verbosity(optuna.logging.WARNING)\n",
        "\n",
        "def objective(trial):\n",
        "    # Hiperparámetros de OneHotEncoder\n",
        "    min_frequency = trial.suggest_float('onehot_min_frequency', 0.0, 1.0)\n",
        "\n",
        "    # Hiperparámetros de XGBRegressor\n",
        "    learning_rate = trial.suggest_float('learning_rate', 0.001, 0.1)\n",
        "    n_estimators = trial.suggest_int('n_estimators', 50, 1000)\n",
        "    max_depth = trial.suggest_int('max_depth', 3, 10)\n",
        "    max_leaves = trial.suggest_int('max_leaves', 0, 100)\n",
        "    min_child_weight = trial.suggest_int('min_child_weight', 1, 5)\n",
        "    reg_alpha = trial.suggest_float('reg_alpha', 0, 1)\n",
        "    reg_lambda = trial.suggest_float('reg_lambda', 0, 1)\n",
        "\n",
        "    # Seguimiento de parámetros\n",
        "    print(f\"Trial {trial.number} - Parameters: \"\n",
        "          f\"onehot_min_frequency={min_frequency}, learning_rate={learning_rate}, \"\n",
        "          f\"n_estimators={n_estimators}, max_depth={max_depth}, max_leaves={max_leaves}, \"\n",
        "          f\"min_child_weight={min_child_weight}, reg_alpha={reg_alpha}, reg_lambda={reg_lambda}\")\n",
        "\n",
        "    # Crear el preprocesador con el OneHotEncoder optimizado\n",
        "    preprocessor = ColumnTransformer(\n",
        "        transformers=[\n",
        "            ('passthrough', 'passthrough', pass_cols),\n",
        "            ('log', FunctionTransformer(np.log1p), num_col),\n",
        "            ('onehot', OneHotEncoder(handle_unknown='ignore', sparse_output=False, min_frequency=min_frequency), cat_col)\n",
        "        ]\n",
        "    ).set_output(transform='pandas')\n",
        "\n",
        "    # Transformar los datos de entrenamiento y validación\n",
        "    X_train_transformed = preprocessor.fit_transform(X_train)\n",
        "    X_val_transformed = preprocessor.transform(X_val)\n",
        "\n",
        "    # Convertir a DataFrame sin usar get_feature_names_out\n",
        "    X_train_df = pd.DataFrame(X_train_transformed, columns=X_train_transformed.columns if isinstance(X_train_transformed, pd.DataFrame) else preprocessor.transformers_[0][2] + num_col + cat_col)\n",
        "    X_val_df = pd.DataFrame(X_val_transformed, columns=X_train_df.columns)\n",
        "\n",
        "    # Definir monotonic_constraints como diccionario\n",
        "    monotonic_constraints = {col: 0 for col in X_train_df.columns}\n",
        "    if \"log__price\" in X_train_df.columns:\n",
        "        monotonic_constraints[\"log__price\"] = -1\n",
        "\n",
        "    # Crear el modelo XGBRegressor con los constraints aplicados y el callback de pruning\n",
        "    model = XGBRegressor(\n",
        "        learning_rate=learning_rate,\n",
        "        n_estimators=n_estimators,\n",
        "        max_depth=max_depth,\n",
        "        max_leaves=max_leaves,\n",
        "        min_child_weight=min_child_weight,\n",
        "        reg_alpha=reg_alpha,\n",
        "        reg_lambda=reg_lambda,\n",
        "        monotone_constraints=monotonic_constraints,\n",
        "        random_state=123,\n",
        "        eval_metric=\"mae\"  # Especificamos eval_metric aquí\n",
        "    )\n",
        "\n",
        "    # Callback de pruning\n",
        "    pruning_callback = XGBoostPruningCallback(trial, \"validation_0-mae\")\n",
        "\n",
        "    # Entrenar el modelo con early stopping y pruning\n",
        "    start_time = time.time()\n",
        "    model.fit(\n",
        "        X_train_df, y_train,\n",
        "        eval_set=[(X_val_df, y_val)],\n",
        "        verbose=False\n",
        "    )\n",
        "    train_time = time.time() - start_time\n",
        "\n",
        "    # Predecir y calcular el MAE\n",
        "    y_val_pred = model.predict(X_val_df)\n",
        "    mae = mean_absolute_error(y_val, y_val_pred)\n",
        "\n",
        "    # Guardar el modelo si el tiempo de entrenamiento es menor a 5 minutos\n",
        "    if train_time <= 300:  # 300 segundos = 5 minutos\n",
        "        trial.set_user_attr(\"best_model\", model)\n",
        "\n",
        "    return mae\n"
      ]
    },
    {
      "cell_type": "code",
      "source": [
        "study = optuna.create_study(direction='minimize', sampler=TPESampler(seed=123))\n",
        "study.optimize(objective, timeout=300, show_progress_bar=True)  # Limitar el tiempo total de entrenamiento\n",
        "\n",
        "# Resultados\n",
        "print(f'Número de trials: {len(study.trials)}')\n",
        "print(f'Mejor MAE: {study.best_value}')\n",
        "print(f'Mejores hiperparámetros: {study.best_params}')"
      ],
      "metadata": {
        "colab": {
          "base_uri": "https://localhost:8080/",
          "height": 1000,
          "referenced_widgets": [
            "0bc62d3ecdf1485187e754972d547006",
            "a278e813e56841dfbbdfd879f3e5d488",
            "e0028bf8d65d46bdb91ab3e1a4729bd1",
            "f1347828184d45f8bd88c2b1f172f6bf",
            "05c0e801e72e4063afd5690a649e77b0",
            "7e2793a7c15845948ebe513d4af34660",
            "1135878dca1e4a0d8fa56f39c7886a45",
            "965519992630444094fc48bf815c049b",
            "56711eca16844cbaadd0ab98e241f053",
            "5aaddfbe3d7d440e85f34629fdaa8935",
            "bf2b1fc2dd1e4572be92c41372b03494"
          ]
        },
        "id": "zwQkDiU8ziXA",
        "outputId": "cb421520-b734-4736-ad86-68a40a7b2b4d"
      },
      "execution_count": 54,
      "outputs": [
        {
          "output_type": "display_data",
          "data": {
            "text/plain": [
              "   0%|          | 00:00/05:00"
            ],
            "application/vnd.jupyter.widget-view+json": {
              "version_major": 2,
              "version_minor": 0,
              "model_id": "0bc62d3ecdf1485187e754972d547006"
            }
          },
          "metadata": {}
        },
        {
          "output_type": "stream",
          "name": "stdout",
          "text": [
            "Trial 0 - Parameters: onehot_min_frequency=0.6964691855978616, learning_rate=0.02932779416008757, n_estimators=265, max_depth=7, max_leaves=72, min_child_weight=3, reg_alpha=0.9807641983846155, reg_lambda=0.6848297385848633\n",
            "Trial 1 - Parameters: onehot_min_frequency=0.48093190148436094, learning_rate=0.0398196343012209, n_estimators=376, max_depth=8, max_leaves=44, min_child_weight=1, reg_alpha=0.3980442553304314, reg_lambda=0.7379954057320357\n",
            "Trial 2 - Parameters: onehot_min_frequency=0.18249173045349998, learning_rate=0.018369723858601764, n_estimators=555, max_depth=7, max_leaves=64, min_child_weight=5, reg_alpha=0.7244553248606352, reg_lambda=0.6110235106775829\n",
            "Trial 3 - Parameters: onehot_min_frequency=0.7224433825702216, learning_rate=0.03297293247146465, n_estimators=394, max_depth=4, max_leaves=29, min_child_weight=4, reg_alpha=0.09210493994507518, reg_lambda=0.43370117267952824\n",
            "Trial 4 - Parameters: onehot_min_frequency=0.4308627633296438, learning_rate=0.049874824667380316, n_estimators=454, max_depth=5, max_leaves=43, min_child_weight=5, reg_alpha=0.9441600182038796, reg_lambda=0.5018366758843366\n",
            "Trial 5 - Parameters: onehot_min_frequency=0.6239529517921112, learning_rate=0.012446221112850278, n_estimators=351, max_depth=6, max_leaves=87, min_child_weight=2, reg_alpha=0.48303426426270435, reg_lambda=0.985559785610705\n",
            "Trial 6 - Parameters: onehot_min_frequency=0.5194851192598093, learning_rate=0.0616765580505338, n_estimators=164, max_depth=9, max_leaves=60, min_child_weight=3, reg_alpha=0.3427638337743084, reg_lambda=0.3041207890271841\n",
            "Trial 7 - Parameters: onehot_min_frequency=0.4170222110247016, learning_rate=0.06844877581348686, n_estimators=882, max_depth=7, max_leaves=67, min_child_weight=3, reg_alpha=0.6249035020955999, reg_lambda=0.6746890509878248\n",
            "Trial 8 - Parameters: onehot_min_frequency=0.8423424376202573, learning_rate=0.009236303844911437, n_estimators=776, max_depth=4, max_leaves=19, min_child_weight=3, reg_alpha=0.09571251661238711, reg_lambda=0.8853268262751396\n",
            "Trial 9 - Parameters: onehot_min_frequency=0.6272489720512687, learning_rate=0.07261821946080553, n_estimators=65, max_depth=7, max_leaves=56, min_child_weight=1, reg_alpha=0.1530705151247731, reg_lambda=0.6955295287709109\n",
            "Trial 10 - Parameters: onehot_min_frequency=0.07457262539540019, learning_rate=0.09525319120905795, n_estimators=617, max_depth=10, max_leaves=99, min_child_weight=5, reg_alpha=0.7024236194881206, reg_lambda=0.19925573196255597\n",
            "Trial 11 - Parameters: onehot_min_frequency=0.06492713652416615, learning_rate=0.09854849874462389, n_estimators=632, max_depth=10, max_leaves=100, min_child_weight=5, reg_alpha=0.7196813252141258, reg_lambda=0.10974914378391386\n",
            "Trial 12 - Parameters: onehot_min_frequency=0.015325290080303589, learning_rate=0.09881109884829357, n_estimators=636, max_depth=10, max_leaves=99, min_child_weight=5, reg_alpha=0.7663742123639276, reg_lambda=0.01197076149533563\n",
            "Trial 13 - Parameters: onehot_min_frequency=0.003677635938920898, learning_rate=0.09707357190007682, n_estimators=728, max_depth=10, max_leaves=99, min_child_weight=4, reg_alpha=0.804440775050536, reg_lambda=0.01473448943988814\n",
            "Trial 14 - Parameters: onehot_min_frequency=0.22213174263027208, learning_rate=0.08470529364698559, n_estimators=981, max_depth=9, max_leaves=0, min_child_weight=4, reg_alpha=0.5979478864625701, reg_lambda=0.21004346457433745\n",
            "Trial 15 - Parameters: onehot_min_frequency=0.23104600791690189, learning_rate=0.08202979408503401, n_estimators=652, max_depth=9, max_leaves=83, min_child_weight=5, reg_alpha=0.8182366901913751, reg_lambda=0.006170037721318411\n",
            "Trial 16 - Parameters: onehot_min_frequency=0.11681639710020034, learning_rate=0.08758296743045227, n_estimators=821, max_depth=10, max_leaves=83, min_child_weight=4, reg_alpha=0.8770369051413747, reg_lambda=0.241161079890015\n",
            "Trial 17 - Parameters: onehot_min_frequency=0.3180119709937872, learning_rate=0.05592898600934233, n_estimators=527, max_depth=8, max_leaves=90, min_child_weight=5, reg_alpha=0.6072047647506551, reg_lambda=0.1467903433188629\n",
            "Trial 18 - Parameters: onehot_min_frequency=0.004830168886415159, learning_rate=0.07609414579430776, n_estimators=658, max_depth=8, max_leaves=77, min_child_weight=2, reg_alpha=0.7165175833318695, reg_lambda=0.395938221262116\n",
            "Trial 19 - Parameters: onehot_min_frequency=0.14590188549077066, learning_rate=0.09187485752649568, n_estimators=924, max_depth=10, max_leaves=94, min_child_weight=4, reg_alpha=0.26763761980307177, reg_lambda=0.10397076369216138\n",
            "Trial 20 - Parameters: onehot_min_frequency=0.9872456645768438, learning_rate=0.09911565586785566, n_estimators=575, max_depth=9, max_leaves=73, min_child_weight=5, reg_alpha=0.5057358005561213, reg_lambda=0.3073238414927149\n",
            "Trial 21 - Parameters: onehot_min_frequency=0.002660989395906478, learning_rate=0.09363004090009944, n_estimators=742, max_depth=10, max_leaves=99, min_child_weight=4, reg_alpha=0.8193690671722044, reg_lambda=0.01995623518616002\n",
            "Trial 22 - Parameters: onehot_min_frequency=0.2933219974771901, learning_rate=0.08284279949347123, n_estimators=728, max_depth=10, max_leaves=100, min_child_weight=4, reg_alpha=0.8685193819522106, reg_lambda=0.00634138782781638\n",
            "Trial 23 - Parameters: onehot_min_frequency=0.09555200422500161, learning_rate=0.09186142474874726, n_estimators=474, max_depth=3, max_leaves=90, min_child_weight=5, reg_alpha=0.7413087639157709, reg_lambda=0.11090206901043231\n",
            "Trial 24 - Parameters: onehot_min_frequency=0.0014589787859703024, learning_rate=0.07775397846392032, n_estimators=823, max_depth=9, max_leaves=80, min_child_weight=4, reg_alpha=0.6383088509382546, reg_lambda=0.21691436265511788\n",
            "Trial 25 - Parameters: onehot_min_frequency=0.32231532594636336, learning_rate=0.06840895837104954, n_estimators=691, max_depth=10, max_leaves=92, min_child_weight=5, reg_alpha=0.9041132222270041, reg_lambda=0.06461346423543333\n",
            "Trial 26 - Parameters: onehot_min_frequency=0.07373869577617809, learning_rate=0.09076102573745483, n_estimators=596, max_depth=8, max_leaves=93, min_child_weight=4, reg_alpha=0.7973794854289259, reg_lambda=0.16912016163808752\n",
            "Trial 27 - Parameters: onehot_min_frequency=0.09641497594401038, learning_rate=0.08709068381438655, n_estimators=583, max_depth=8, max_leaves=84, min_child_weight=4, reg_alpha=0.8414480805959107, reg_lambda=0.3162380175710569\n",
            "Trial 28 - Parameters: onehot_min_frequency=0.2393232694479971, learning_rate=0.09233119064952217, n_estimators=455, max_depth=6, max_leaves=73, min_child_weight=3, reg_alpha=0.5415338550456612, reg_lambda=0.17553272065720016\n",
            "Trial 29 - Parameters: onehot_min_frequency=0.15137884864765153, learning_rate=0.06264745522712253, n_estimators=773, max_depth=9, max_leaves=94, min_child_weight=2, reg_alpha=0.9945156343461704, reg_lambda=0.3848144582442778\n",
            "Trial 30 - Parameters: onehot_min_frequency=0.06722622176478532, learning_rate=0.07737877304254866, n_estimators=321, max_depth=9, max_leaves=50, min_child_weight=4, reg_alpha=0.6681197005354843, reg_lambda=0.5363051892801682\n",
            "Trial 31 - Parameters: onehot_min_frequency=0.15805535469083767, learning_rate=0.06116183957286522, n_estimators=804, max_depth=8, max_leaves=93, min_child_weight=2, reg_alpha=0.9645172300278362, reg_lambda=0.39593761326174004\n",
            "Trial 32 - Parameters: onehot_min_frequency=0.17649197512188208, learning_rate=0.04547801195330024, n_estimators=747, max_depth=9, max_leaves=77, min_child_weight=2, reg_alpha=0.9933057616140696, reg_lambda=0.23853485569427266\n",
            "Trial 33 - Parameters: onehot_min_frequency=0.08319132807924033, learning_rate=0.023660887904634154, n_estimators=599, max_depth=8, max_leaves=94, min_child_weight=1, reg_alpha=0.9196599067889945, reg_lambda=0.3512351648598727\n",
            "Trial 34 - Parameters: onehot_min_frequency=0.28641135662309436, learning_rate=0.03616750755960447, n_estimators=869, max_depth=9, max_leaves=68, min_child_weight=3, reg_alpha=0.7876905835014995, reg_lambda=0.5646998808164029\n",
            "Trial 35 - Parameters: onehot_min_frequency=0.1916392682807985, learning_rate=0.09124178150791089, n_estimators=704, max_depth=8, max_leaves=36, min_child_weight=2, reg_alpha=0.9898464648916336, reg_lambda=0.16321374664746766\n",
            "Trial 36 - Parameters: onehot_min_frequency=0.3715941186382057, learning_rate=0.0012587021300994317, n_estimators=497, max_depth=10, max_leaves=86, min_child_weight=3, reg_alpha=0.6975344294715482, reg_lambda=0.47589243041907436\n",
            "Trial 37 - Parameters: onehot_min_frequency=0.05333626725649701, learning_rate=0.0443341463056408, n_estimators=404, max_depth=7, max_leaves=90, min_child_weight=1, reg_alpha=0.9053903891902062, reg_lambda=0.07652017310946187\n",
            "Trial 38 - Parameters: onehot_min_frequency=0.1314957982911482, learning_rate=0.0679117922554287, n_estimators=541, max_depth=6, max_leaves=95, min_child_weight=3, reg_alpha=0.40732056932812893, reg_lambda=0.26311840348604\n",
            "Trial 39 - Parameters: onehot_min_frequency=0.5109865977383299, learning_rate=0.0542692382608552, n_estimators=879, max_depth=9, max_leaves=23, min_child_weight=2, reg_alpha=0.8150546800422119, reg_lambda=0.43552542276045825\n",
            "Trial 40 - Parameters: onehot_min_frequency=0.5727041397368453, learning_rate=0.0630046302047566, n_estimators=772, max_depth=7, max_leaves=79, min_child_weight=4, reg_alpha=0.5503178741565792, reg_lambda=0.8022189012535549\n",
            "Trial 41 - Parameters: onehot_min_frequency=0.022448434165967673, learning_rate=0.09461578922515325, n_estimators=620, max_depth=10, max_leaves=100, min_child_weight=5, reg_alpha=0.7646728087437717, reg_lambda=0.06509644850818246\n",
            "Trial 42 - Parameters: onehot_min_frequency=0.05272714155330518, learning_rate=0.09887257467935781, n_estimators=680, max_depth=10, max_leaves=97, min_child_weight=5, reg_alpha=0.7614899850853131, reg_lambda=0.15861736246687305\n",
            "Trial 43 - Parameters: onehot_min_frequency=0.1315203785468076, learning_rate=0.08666747934105733, n_estimators=626, max_depth=10, max_leaves=87, min_child_weight=5, reg_alpha=0.6726802190576697, reg_lambda=0.040518378795834684\n",
            "Trial 44 - Parameters: onehot_min_frequency=0.7594610605904112, learning_rate=0.08102569246350526, n_estimators=556, max_depth=9, max_leaves=97, min_child_weight=5, reg_alpha=0.8519586622051003, reg_lambda=0.1222802468359214\n",
            "Trial 45 - Parameters: onehot_min_frequency=0.0521565095489482, learning_rate=0.07276800339625047, n_estimators=780, max_depth=10, max_leaves=89, min_child_weight=4, reg_alpha=0.01750452486919185, reg_lambda=0.19825785423198727\n",
            "Trial 46 - Parameters: onehot_min_frequency=0.22307579648524556, learning_rate=0.07502150156129272, n_estimators=936, max_depth=10, max_leaves=64, min_child_weight=4, reg_alpha=0.20307804906997928, reg_lambda=0.27124430325680793\n",
            "Trial 47 - Parameters: onehot_min_frequency=0.04739901118463606, learning_rate=0.07251281489967146, n_estimators=778, max_depth=9, max_leaves=88, min_child_weight=4, reg_alpha=0.4205271749572884, reg_lambda=0.18198442786532085\n",
            "Trial 48 - Parameters: onehot_min_frequency=0.10932279949871707, learning_rate=0.06345299835522909, n_estimators=834, max_depth=10, max_leaves=6, min_child_weight=3, reg_alpha=0.31095275595963456, reg_lambda=0.34734073211740774\n",
            "Trial 49 - Parameters: onehot_min_frequency=0.44162735248359, learning_rate=0.08904678525016542, n_estimators=739, max_depth=5, max_leaves=56, min_child_weight=4, reg_alpha=0.9437040222456158, reg_lambda=0.1949613689868976\n",
            "Trial 50 - Parameters: onehot_min_frequency=0.18732590517273362, learning_rate=0.08016697247325677, n_estimators=674, max_depth=9, max_leaves=82, min_child_weight=4, reg_alpha=0.03507372448326749, reg_lambda=0.9846141209805606\n",
            "Trial 51 - Parameters: onehot_min_frequency=0.03586365402111097, learning_rate=0.09399455569283835, n_estimators=647, max_depth=10, max_leaves=95, min_child_weight=5, reg_alpha=0.7795037031315558, reg_lambda=0.035206431956255474\n",
            "Trial 52 - Parameters: onehot_min_frequency=0.03261648696200712, learning_rate=0.09461032520893761, n_estimators=705, max_depth=10, max_leaves=95, min_child_weight=5, reg_alpha=0.8226099606814894, reg_lambda=0.07610839754392236\n",
            "Trial 53 - Parameters: onehot_min_frequency=0.09633145308343319, learning_rate=0.08453089036762086, n_estimators=773, max_depth=10, max_leaves=87, min_child_weight=5, reg_alpha=0.4530804727476278, reg_lambda=0.12157656114875814\n",
            "Trial 54 - Parameters: onehot_min_frequency=0.06638247890223757, learning_rate=0.07095035459781769, n_estimators=607, max_depth=9, max_leaves=91, min_child_weight=4, reg_alpha=0.5663497470263349, reg_lambda=0.04895376096976184\n",
            "Trial 55 - Parameters: onehot_min_frequency=0.14279580633107772, learning_rate=0.09599550930413032, n_estimators=651, max_depth=10, max_leaves=97, min_child_weight=4, reg_alpha=0.7041656534284496, reg_lambda=0.2851128788939187\n",
            "Trial 56 - Parameters: onehot_min_frequency=0.005727220500884096, learning_rate=0.09496220143098187, n_estimators=496, max_depth=10, max_leaves=97, min_child_weight=4, reg_alpha=0.6959723385299773, reg_lambda=0.26396257277686763\n",
            "Trial 57 - Parameters: onehot_min_frequency=0.25749720639943374, learning_rate=0.09990009115674778, n_estimators=156, max_depth=10, max_leaves=99, min_child_weight=4, reg_alpha=0.7336281633053019, reg_lambda=0.2255122632801862\n",
            "Trial 58 - Parameters: onehot_min_frequency=0.204452653013186, learning_rate=0.08871269014870888, n_estimators=660, max_depth=5, max_leaves=90, min_child_weight=5, reg_alpha=0.64552154673929, reg_lambda=0.09932066959412592\n",
            "Trial 59 - Parameters: onehot_min_frequency=0.12164287726796233, learning_rate=0.09594635747108946, n_estimators=581, max_depth=10, max_leaves=76, min_child_weight=4, reg_alpha=0.7877969091596503, reg_lambda=0.13852262223698164\n",
            "Trial 60 - Parameters: onehot_min_frequency=0.03376153700956668, learning_rate=0.08464704366944995, n_estimators=516, max_depth=8, max_leaves=84, min_child_weight=5, reg_alpha=0.6042833780200454, reg_lambda=0.03613235341019364\n",
            "Trial 61 - Parameters: onehot_min_frequency=0.02348515025199595, learning_rate=0.09490421097137478, n_estimators=487, max_depth=10, max_leaves=96, min_child_weight=4, reg_alpha=0.7136527221645469, reg_lambda=0.2750486824995969\n",
            "Trial 62 - Parameters: onehot_min_frequency=0.0069103320309248165, learning_rate=0.09079908953104304, n_estimators=390, max_depth=10, max_leaves=98, min_child_weight=4, reg_alpha=0.6855581228040966, reg_lambda=0.2046425624605937\n",
            "Trial 63 - Parameters: onehot_min_frequency=0.08053196502715199, learning_rate=0.0961658310215986, n_estimators=645, max_depth=10, max_leaves=92, min_child_weight=4, reg_alpha=0.8766797553447532, reg_lambda=0.3228996554790142\n",
            "Trial 64 - Parameters: onehot_min_frequency=0.16720734787698827, learning_rate=0.09343210595434207, n_estimators=540, max_depth=10, max_leaves=100, min_child_weight=3, reg_alpha=0.756653967168152, reg_lambda=0.27966499223244534\n",
            "Trial 65 - Parameters: onehot_min_frequency=0.0810669480288746, learning_rate=0.08810414299616719, n_estimators=440, max_depth=9, max_leaves=87, min_child_weight=4, reg_alpha=0.652265095639521, reg_lambda=0.2386597926777194\n",
            "Trial 66 - Parameters: onehot_min_frequency=8.823128952344713e-05, learning_rate=0.09737493659299573, n_estimators=715, max_depth=10, max_leaves=81, min_child_weight=4, reg_alpha=0.1267093604616956, reg_lambda=0.15585287958140714\n",
            "Trial 67 - Parameters: onehot_min_frequency=0.11934784285378804, learning_rate=0.07996934762264508, n_estimators=567, max_depth=9, max_leaves=93, min_child_weight=5, reg_alpha=0.8029585449133402, reg_lambda=0.08797070462431598\n",
            "Trial 68 - Parameters: onehot_min_frequency=0.057141337806944664, learning_rate=0.09055028347861159, n_estimators=339, max_depth=10, max_leaves=96, min_child_weight=3, reg_alpha=0.4926770072441917, reg_lambda=0.030457442454431466\n",
            "Trial 69 - Parameters: onehot_min_frequency=0.14692071501315912, learning_rate=0.08449865510478799, n_estimators=439, max_depth=3, max_leaves=84, min_child_weight=4, reg_alpha=0.8392594040989972, reg_lambda=0.6326152755560979\n",
            "Trial 70 - Parameters: onehot_min_frequency=0.0958363844597622, learning_rate=0.09961281584059281, n_estimators=521, max_depth=9, max_leaves=89, min_child_weight=5, reg_alpha=0.5832318184238199, reg_lambda=0.20047992045748206\n",
            "Trial 71 - Parameters: onehot_min_frequency=0.031054004183109933, learning_rate=0.0934419462923119, n_estimators=602, max_depth=10, max_leaves=96, min_child_weight=4, reg_alpha=0.7121298442105525, reg_lambda=0.28975816675170385\n",
            "Trial 72 - Parameters: onehot_min_frequency=0.03522203707901016, learning_rate=0.09595257881906824, n_estimators=507, max_depth=10, max_leaves=100, min_child_weight=4, reg_alpha=0.7262797554927526, reg_lambda=0.34920630476687237\n",
            "Trial 73 - Parameters: onehot_min_frequency=0.06033224338045279, learning_rate=0.09624015266306166, n_estimators=643, max_depth=10, max_leaves=92, min_child_weight=4, reg_alpha=0.6230392529178491, reg_lambda=0.34967742475353314\n",
            "Trial 74 - Parameters: onehot_min_frequency=0.9809563620772489, learning_rate=0.0859350290007791, n_estimators=465, max_depth=10, max_leaves=100, min_child_weight=4, reg_alpha=0.735701510117344, reg_lambda=0.0007125857670970785\n",
            "Trial 75 - Parameters: onehot_min_frequency=0.03747683966567432, learning_rate=0.09056944294483142, n_estimators=508, max_depth=10, max_leaves=94, min_child_weight=4, reg_alpha=0.7820254256924388, reg_lambda=0.43927471215787567\n",
            "Trial 76 - Parameters: onehot_min_frequency=0.07866055203494914, learning_rate=0.0934118302695635, n_estimators=688, max_depth=9, max_leaves=97, min_child_weight=3, reg_alpha=0.22054895724416734, reg_lambda=0.37549369136717703\n",
            "Trial 77 - Parameters: onehot_min_frequency=0.157640812521049, learning_rate=0.08277074617484631, n_estimators=686, max_depth=9, max_leaves=90, min_child_weight=3, reg_alpha=0.0454566387460038, reg_lambda=0.3763439806653627\n",
            "Trial 78 - Parameters: onehot_min_frequency=0.17513143305113543, learning_rate=0.08264076493527726, n_estimators=747, max_depth=8, max_leaves=86, min_child_weight=3, reg_alpha=0.031697681180004475, reg_lambda=0.46431730505465424\n",
            "Trial 79 - Parameters: onehot_min_frequency=0.2523633900863595, learning_rate=0.0776700616937176, n_estimators=682, max_depth=9, max_leaves=39, min_child_weight=3, reg_alpha=0.14453934465436377, reg_lambda=0.40183636162991965\n",
            "Trial 80 - Parameters: onehot_min_frequency=0.13366091708378933, learning_rate=0.09213538137851911, n_estimators=833, max_depth=9, max_leaves=69, min_child_weight=3, reg_alpha=0.0069028193639905505, reg_lambda=0.37910622417087053\n",
            "Trial 81 - Parameters: onehot_min_frequency=0.10684521678847009, learning_rate=0.08757098527888715, n_estimators=722, max_depth=9, max_leaves=91, min_child_weight=3, reg_alpha=0.21895002831819502, reg_lambda=0.3133382681340254\n",
            "Trial 82 - Parameters: onehot_min_frequency=0.07644506137052295, learning_rate=0.09764397145162182, n_estimators=662, max_depth=7, max_leaves=98, min_child_weight=3, reg_alpha=0.06707530095658751, reg_lambda=0.3338571498769158\n",
            "Trial 83 - Parameters: onehot_min_frequency=0.1505214245715311, learning_rate=0.08916344118692611, n_estimators=806, max_depth=9, max_leaves=93, min_child_weight=3, reg_alpha=0.08283597743792206, reg_lambda=0.3745017839421544\n",
            "Trial 84 - Parameters: onehot_min_frequency=0.3643271373363976, learning_rate=0.09154646204062644, n_estimators=624, max_depth=8, max_leaves=89, min_child_weight=3, reg_alpha=0.34171405875376365, reg_lambda=0.4220574472781429\n",
            "Trial 85 - Parameters: onehot_min_frequency=0.05407543529282889, learning_rate=0.08262138789575076, n_estimators=752, max_depth=10, max_leaves=95, min_child_weight=5, reg_alpha=0.27938145196460035, reg_lambda=0.49762037984882324\n",
            "Trial 86 - Parameters: onehot_min_frequency=0.21180380930491802, learning_rate=0.07494900202418195, n_estimators=701, max_depth=10, max_leaves=95, min_child_weight=5, reg_alpha=0.2097282425424238, reg_lambda=0.5222497248250969\n",
            "Trial 87 - Parameters: onehot_min_frequency=0.6737745505988137, learning_rate=0.07911209303389395, n_estimators=851, max_depth=4, max_leaves=79, min_child_weight=3, reg_alpha=0.17744948999550192, reg_lambda=0.5828301617472422\n",
            "Trial 88 - Parameters: onehot_min_frequency=0.04724161648347284, learning_rate=0.0827846432145443, n_estimators=798, max_depth=9, max_leaves=86, min_child_weight=5, reg_alpha=0.26537427362805704, reg_lambda=0.49687864585166913\n",
            "Trial 89 - Parameters: onehot_min_frequency=0.10441151031363628, learning_rate=0.08602356714156424, n_estimators=747, max_depth=10, max_leaves=100, min_child_weight=3, reg_alpha=0.1208124691832966, reg_lambda=0.4728549382508106\n",
            "Trial 90 - Parameters: onehot_min_frequency=0.08362992705524538, learning_rate=0.03148047196996451, n_estimators=916, max_depth=10, max_leaves=48, min_child_weight=4, reg_alpha=0.2569889346533359, reg_lambda=0.36734521201625076\n",
            "Trial 91 - Parameters: onehot_min_frequency=0.06290837375648438, learning_rate=0.09323087852903271, n_estimators=591, max_depth=10, max_leaves=97, min_child_weight=5, reg_alpha=0.05665776040068088, reg_lambda=0.25258464811617926\n",
            "Trial 92 - Parameters: onehot_min_frequency=0.032592231716613615, learning_rate=0.09712271667789557, n_estimators=675, max_depth=10, max_leaves=94, min_child_weight=5, reg_alpha=0.10509052858018664, reg_lambda=0.29711416325696993\n",
            "Trial 93 - Parameters: onehot_min_frequency=0.12763647084515767, learning_rate=0.0896998771163659, n_estimators=760, max_depth=10, max_leaves=91, min_child_weight=5, reg_alpha=0.3704379670438481, reg_lambda=0.408860366541464\n",
            "Trial 94 - Parameters: onehot_min_frequency=0.020027393051796502, learning_rate=0.09986228985469037, n_estimators=723, max_depth=10, max_leaves=98, min_child_weight=5, reg_alpha=0.2964506032486394, reg_lambda=0.13472698361591448\n",
            "Trial 95 - Parameters: onehot_min_frequency=0.5406906943590972, learning_rate=0.0931182202325313, n_estimators=693, max_depth=9, max_leaves=89, min_child_weight=4, reg_alpha=0.0003841992162088165, reg_lambda=0.22616579351207639\n",
            "Trial 96 - Parameters: onehot_min_frequency=0.159913696754846, learning_rate=0.08737612786585114, n_estimators=627, max_depth=10, max_leaves=95, min_child_weight=5, reg_alpha=0.5243110486876554, reg_lambda=0.1901420788825358\n",
            "Trial 97 - Parameters: onehot_min_frequency=0.075712576941938, learning_rate=0.08231448823017769, n_estimators=659, max_depth=9, max_leaves=13, min_child_weight=4, reg_alpha=0.8620723900174728, reg_lambda=0.17661024574343723\n",
            "Número de trials: 98\n",
            "Mejor MAE: 1989.3642273563255\n",
            "Mejores hiperparámetros: {'onehot_min_frequency': 0.157640812521049, 'learning_rate': 0.08277074617484631, 'n_estimators': 686, 'max_depth': 9, 'max_leaves': 90, 'min_child_weight': 3, 'reg_alpha': 0.0454566387460038, 'reg_lambda': 0.3763439806653627}\n"
          ]
        }
      ]
    },
    {
      "cell_type": "markdown",
      "source": [
        "**Respuesta**: Se observa que el numero de trials es menor al anterior (98) y se obtiene un mejor mae, levemente mayor. Esto se puede deber a que con prunning se realizan menos trials, ya que como se menciono anteriormente, esta tecnica detiene los ensayos con bajo rendimiento, lo que reduce el tiempo y se concentra en trials con mejor rendimienot. Aunque el tiempo se optimizo, el MAE es solo un poco mayor, lo que se puede explicar en que algunos trials que se habrian completado sin prunnning y podrian haber dado un MAE menor, se detuvieron antes. Los hiperparametros son similares, pero dijieren en detalles como el max_depth y reg_alpha, lo que indica que este modelo no tuvo la misma capacidad de fitting. En resumen, esta tecninca optimiza el tiempo de busqueda sin afectar drasticamente la precision del modelo"
      ],
      "metadata": {
        "id": "AfJPgf2r0xcJ"
      }
    },
    {
      "cell_type": "code",
      "source": [
        "# Guardar el modelo XGBRegressor en Google Drive\n",
        "best_model = study.best_trial.user_attrs[\"best_model\"]\n",
        "\n",
        "with open('/content/drive/MyDrive/mejor_modelo_xgb.pkl', 'wb') as xgb_file:\n",
        "    pickle.dump(best_model, xgb_file)"
      ],
      "metadata": {
        "id": "QJXO1Mi10xFw"
      },
      "execution_count": null,
      "outputs": []
    },
    {
      "cell_type": "markdown",
      "metadata": {
        "cell_id": "8a081778cc704fc6bed05393a5419327",
        "deepnote_cell_type": "markdown",
        "id": "ZMiiVaCUI5wA"
      },
      "source": [
        "## 5. Visualizaciones (5 puntos)\n",
        "\n",
        "<p align=\"center\">\n",
        "  <img src=\"https://media.tenor.com/F-LgB1xTebEAAAAd/look-at-this-graph-nickelback.gif\">\n",
        "</p>\n",
        "\n",
        "\n",
        "Satisfecho con su trabajo, Fiu le pregunta si es posible generar visualizaciones que permitan entender el entrenamiento de su modelo.\n",
        "\n",
        "A partir del siguiente <a href = https://optuna.readthedocs.io/en/stable/tutorial/10_key_features/005_visualization.html#visualization>enlace</a>, genere las siguientes visualizaciones:\n",
        "\n",
        "1. Gráfico de historial de optimización [1 punto]\n",
        "2. Gráfico de coordenadas paralelas [1 punto]\n",
        "3. Gráfico de importancia de hiperparámetros [1 punto]\n",
        "\n",
        "Comente sus resultados:\n",
        "\n",
        "4. ¿Desde qué *trial* se empiezan a observar mejoras notables en sus resultados? [0.5 puntos]\n",
        "5. ¿Qué tendencias puede observar a partir del gráfico de coordenadas paralelas? [1 punto]\n",
        "6. ¿Cuáles son los hiperparámetros con mayor importancia para la optimización de su modelo? [0.5 puntos]"
      ]
    },
    {
      "cell_type": "code",
      "execution_count": 56,
      "metadata": {
        "cell_id": "0e706dc9a8d946eda7a9eb1f0463c6d7",
        "deepnote_cell_type": "code",
        "id": "xjxAEENAI5wA",
        "colab": {
          "base_uri": "https://localhost:8080/",
          "height": 1000
        },
        "outputId": "acc251b9-84e6-4c10-8a37-2434635194e1"
      },
      "outputs": [
        {
          "output_type": "display_data",
          "data": {
            "text/html": [
              "<html>\n",
              "<head><meta charset=\"utf-8\" /></head>\n",
              "<body>\n",
              "    <div>            <script src=\"https://cdnjs.cloudflare.com/ajax/libs/mathjax/2.7.5/MathJax.js?config=TeX-AMS-MML_SVG\"></script><script type=\"text/javascript\">if (window.MathJax && window.MathJax.Hub && window.MathJax.Hub.Config) {window.MathJax.Hub.Config({SVG: {font: \"STIX-Web\"}});}</script>                <script type=\"text/javascript\">window.PlotlyConfig = {MathJaxConfig: 'local'};</script>\n",
              "        <script charset=\"utf-8\" src=\"https://cdn.plot.ly/plotly-2.35.2.min.js\"></script>                <div id=\"6df554f0-f444-435f-b243-1f1c6dc4794c\" class=\"plotly-graph-div\" style=\"height:525px; width:100%;\"></div>            <script type=\"text/javascript\">                                    window.PLOTLYENV=window.PLOTLYENV || {};                                    if (document.getElementById(\"6df554f0-f444-435f-b243-1f1c6dc4794c\")) {                    Plotly.newPlot(                        \"6df554f0-f444-435f-b243-1f1c6dc4794c\",                        [{\"mode\":\"markers\",\"name\":\"Objective Value\",\"x\":[0,1,2,3,4,5,6,7,8,9,10,11,12,13,14,15,16,17,18,19,20,21,22,23,24,25,26,27,28,29,30,31,32,33,34,35,36,37,38,39,40,41,42,43,44,45,46,47,48,49,50,51,52,53,54,55,56,57,58,59,60,61,62,63,64,65,66,67,68,69,70,71,72,73,74,75,76,77,78,79,80,81,82,83,84,85,86,87,88,89,90,91,92,93,94,95,96,97],\"y\":[6734.72711378132,6781.191428327144,2639.8516021257756,6588.752402844803,6826.677325140622,6652.859658930143,6763.423484551515,7381.374915263063,6594.0648177803805,6645.566089243796,2007.560296348403,2063.7582845707057,2023.0367512693347,2037.505732719887,5339.6814497417445,4947.911045865034,2069.9340379025457,4783.47807859527,2051.65160592461,2041.7679205113493,7357.124691692637,1995.036931550239,5084.694278934512,3033.8549685155203,2104.6736050253344,4953.072155159964,1998.7424673365715,2065.2155972128344,4732.477316781548,2016.9672466766747,2312.1536299502745,2032.5192961152331,2152.616569616265,2319.355434036511,4684.682372064418,2319.448322912737,9993.907500995556,2253.6969697416266,2213.6864317414907,6924.98917931826,7342.67297862697,2064.9502896283952,2075.7365629322812,2091.4562046759725,7365.442999550035,1999.343243379548,4973.223553970306,2037.8569759212828,3127.4087787630733,7125.449957409455,2090.2555073278213,2007.2193959656377,2026.4773379043795,2054.502937710901,2040.3758683284605,2003.8884782490516,2010.608081595039,4599.277859867539,3715.1553069638535,2143.563970083522,2065.7961468354397,2015.8040462829058,2038.465411119058,2031.4026031187122,2022.4020544163418,2111.292750644492,2087.553366749979,2078.3426976245496,2083.55057100415,3065.915587928613,2051.0345050445903,2028.5284354237403,2003.8401951422074,2020.3432387128762,7395.732224810451,2062.462686928865,2000.117097768905,1989.3642273563255,2062.587865081112,4659.630305350986,2026.133150874649,2049.9108487186136,2034.1596476646337,2020.3484872450852,7482.563476828582,2000.0136620504275,5001.52756594908,6883.805980884493,2038.7554506727868,2028.4104908585628,2346.7416553356597,2020.6128715653294,2056.4813410082893,2056.011688457568,2069.157262913418,7437.468480520165,2022.8658688786363,2719.8981403066837],\"type\":\"scatter\"},{\"mode\":\"lines\",\"name\":\"Best Value\",\"x\":[0,1,2,3,4,5,6,7,8,9,10,11,12,13,14,15,16,17,18,19,20,21,22,23,24,25,26,27,28,29,30,31,32,33,34,35,36,37,38,39,40,41,42,43,44,45,46,47,48,49,50,51,52,53,54,55,56,57,58,59,60,61,62,63,64,65,66,67,68,69,70,71,72,73,74,75,76,77,78,79,80,81,82,83,84,85,86,87,88,89,90,91,92,93,94,95,96,97],\"y\":[6734.72711378132,6734.72711378132,2639.8516021257756,2639.8516021257756,2639.8516021257756,2639.8516021257756,2639.8516021257756,2639.8516021257756,2639.8516021257756,2639.8516021257756,2007.560296348403,2007.560296348403,2007.560296348403,2007.560296348403,2007.560296348403,2007.560296348403,2007.560296348403,2007.560296348403,2007.560296348403,2007.560296348403,2007.560296348403,1995.036931550239,1995.036931550239,1995.036931550239,1995.036931550239,1995.036931550239,1995.036931550239,1995.036931550239,1995.036931550239,1995.036931550239,1995.036931550239,1995.036931550239,1995.036931550239,1995.036931550239,1995.036931550239,1995.036931550239,1995.036931550239,1995.036931550239,1995.036931550239,1995.036931550239,1995.036931550239,1995.036931550239,1995.036931550239,1995.036931550239,1995.036931550239,1995.036931550239,1995.036931550239,1995.036931550239,1995.036931550239,1995.036931550239,1995.036931550239,1995.036931550239,1995.036931550239,1995.036931550239,1995.036931550239,1995.036931550239,1995.036931550239,1995.036931550239,1995.036931550239,1995.036931550239,1995.036931550239,1995.036931550239,1995.036931550239,1995.036931550239,1995.036931550239,1995.036931550239,1995.036931550239,1995.036931550239,1995.036931550239,1995.036931550239,1995.036931550239,1995.036931550239,1995.036931550239,1995.036931550239,1995.036931550239,1995.036931550239,1995.036931550239,1989.3642273563255,1989.3642273563255,1989.3642273563255,1989.3642273563255,1989.3642273563255,1989.3642273563255,1989.3642273563255,1989.3642273563255,1989.3642273563255,1989.3642273563255,1989.3642273563255,1989.3642273563255,1989.3642273563255,1989.3642273563255,1989.3642273563255,1989.3642273563255,1989.3642273563255,1989.3642273563255,1989.3642273563255,1989.3642273563255,1989.3642273563255],\"type\":\"scatter\"},{\"marker\":{\"color\":\"#cccccc\"},\"mode\":\"markers\",\"name\":\"Infeasible Trial\",\"showlegend\":false,\"x\":[],\"y\":[],\"type\":\"scatter\"}],                        {\"title\":{\"text\":\"Optimization History Plot\"},\"xaxis\":{\"title\":{\"text\":\"Trial\"}},\"yaxis\":{\"title\":{\"text\":\"Objective Value\"}},\"template\":{\"data\":{\"histogram2dcontour\":[{\"type\":\"histogram2dcontour\",\"colorbar\":{\"outlinewidth\":0,\"ticks\":\"\"},\"colorscale\":[[0.0,\"#0d0887\"],[0.1111111111111111,\"#46039f\"],[0.2222222222222222,\"#7201a8\"],[0.3333333333333333,\"#9c179e\"],[0.4444444444444444,\"#bd3786\"],[0.5555555555555556,\"#d8576b\"],[0.6666666666666666,\"#ed7953\"],[0.7777777777777778,\"#fb9f3a\"],[0.8888888888888888,\"#fdca26\"],[1.0,\"#f0f921\"]]}],\"choropleth\":[{\"type\":\"choropleth\",\"colorbar\":{\"outlinewidth\":0,\"ticks\":\"\"}}],\"histogram2d\":[{\"type\":\"histogram2d\",\"colorbar\":{\"outlinewidth\":0,\"ticks\":\"\"},\"colorscale\":[[0.0,\"#0d0887\"],[0.1111111111111111,\"#46039f\"],[0.2222222222222222,\"#7201a8\"],[0.3333333333333333,\"#9c179e\"],[0.4444444444444444,\"#bd3786\"],[0.5555555555555556,\"#d8576b\"],[0.6666666666666666,\"#ed7953\"],[0.7777777777777778,\"#fb9f3a\"],[0.8888888888888888,\"#fdca26\"],[1.0,\"#f0f921\"]]}],\"heatmap\":[{\"type\":\"heatmap\",\"colorbar\":{\"outlinewidth\":0,\"ticks\":\"\"},\"colorscale\":[[0.0,\"#0d0887\"],[0.1111111111111111,\"#46039f\"],[0.2222222222222222,\"#7201a8\"],[0.3333333333333333,\"#9c179e\"],[0.4444444444444444,\"#bd3786\"],[0.5555555555555556,\"#d8576b\"],[0.6666666666666666,\"#ed7953\"],[0.7777777777777778,\"#fb9f3a\"],[0.8888888888888888,\"#fdca26\"],[1.0,\"#f0f921\"]]}],\"heatmapgl\":[{\"type\":\"heatmapgl\",\"colorbar\":{\"outlinewidth\":0,\"ticks\":\"\"},\"colorscale\":[[0.0,\"#0d0887\"],[0.1111111111111111,\"#46039f\"],[0.2222222222222222,\"#7201a8\"],[0.3333333333333333,\"#9c179e\"],[0.4444444444444444,\"#bd3786\"],[0.5555555555555556,\"#d8576b\"],[0.6666666666666666,\"#ed7953\"],[0.7777777777777778,\"#fb9f3a\"],[0.8888888888888888,\"#fdca26\"],[1.0,\"#f0f921\"]]}],\"contourcarpet\":[{\"type\":\"contourcarpet\",\"colorbar\":{\"outlinewidth\":0,\"ticks\":\"\"}}],\"contour\":[{\"type\":\"contour\",\"colorbar\":{\"outlinewidth\":0,\"ticks\":\"\"},\"colorscale\":[[0.0,\"#0d0887\"],[0.1111111111111111,\"#46039f\"],[0.2222222222222222,\"#7201a8\"],[0.3333333333333333,\"#9c179e\"],[0.4444444444444444,\"#bd3786\"],[0.5555555555555556,\"#d8576b\"],[0.6666666666666666,\"#ed7953\"],[0.7777777777777778,\"#fb9f3a\"],[0.8888888888888888,\"#fdca26\"],[1.0,\"#f0f921\"]]}],\"surface\":[{\"type\":\"surface\",\"colorbar\":{\"outlinewidth\":0,\"ticks\":\"\"},\"colorscale\":[[0.0,\"#0d0887\"],[0.1111111111111111,\"#46039f\"],[0.2222222222222222,\"#7201a8\"],[0.3333333333333333,\"#9c179e\"],[0.4444444444444444,\"#bd3786\"],[0.5555555555555556,\"#d8576b\"],[0.6666666666666666,\"#ed7953\"],[0.7777777777777778,\"#fb9f3a\"],[0.8888888888888888,\"#fdca26\"],[1.0,\"#f0f921\"]]}],\"mesh3d\":[{\"type\":\"mesh3d\",\"colorbar\":{\"outlinewidth\":0,\"ticks\":\"\"}}],\"scatter\":[{\"fillpattern\":{\"fillmode\":\"overlay\",\"size\":10,\"solidity\":0.2},\"type\":\"scatter\"}],\"parcoords\":[{\"type\":\"parcoords\",\"line\":{\"colorbar\":{\"outlinewidth\":0,\"ticks\":\"\"}}}],\"scatterpolargl\":[{\"type\":\"scatterpolargl\",\"marker\":{\"colorbar\":{\"outlinewidth\":0,\"ticks\":\"\"}}}],\"bar\":[{\"error_x\":{\"color\":\"#2a3f5f\"},\"error_y\":{\"color\":\"#2a3f5f\"},\"marker\":{\"line\":{\"color\":\"#E5ECF6\",\"width\":0.5},\"pattern\":{\"fillmode\":\"overlay\",\"size\":10,\"solidity\":0.2}},\"type\":\"bar\"}],\"scattergeo\":[{\"type\":\"scattergeo\",\"marker\":{\"colorbar\":{\"outlinewidth\":0,\"ticks\":\"\"}}}],\"scatterpolar\":[{\"type\":\"scatterpolar\",\"marker\":{\"colorbar\":{\"outlinewidth\":0,\"ticks\":\"\"}}}],\"histogram\":[{\"marker\":{\"pattern\":{\"fillmode\":\"overlay\",\"size\":10,\"solidity\":0.2}},\"type\":\"histogram\"}],\"scattergl\":[{\"type\":\"scattergl\",\"marker\":{\"colorbar\":{\"outlinewidth\":0,\"ticks\":\"\"}}}],\"scatter3d\":[{\"type\":\"scatter3d\",\"line\":{\"colorbar\":{\"outlinewidth\":0,\"ticks\":\"\"}},\"marker\":{\"colorbar\":{\"outlinewidth\":0,\"ticks\":\"\"}}}],\"scattermapbox\":[{\"type\":\"scattermapbox\",\"marker\":{\"colorbar\":{\"outlinewidth\":0,\"ticks\":\"\"}}}],\"scatterternary\":[{\"type\":\"scatterternary\",\"marker\":{\"colorbar\":{\"outlinewidth\":0,\"ticks\":\"\"}}}],\"scattercarpet\":[{\"type\":\"scattercarpet\",\"marker\":{\"colorbar\":{\"outlinewidth\":0,\"ticks\":\"\"}}}],\"carpet\":[{\"aaxis\":{\"endlinecolor\":\"#2a3f5f\",\"gridcolor\":\"white\",\"linecolor\":\"white\",\"minorgridcolor\":\"white\",\"startlinecolor\":\"#2a3f5f\"},\"baxis\":{\"endlinecolor\":\"#2a3f5f\",\"gridcolor\":\"white\",\"linecolor\":\"white\",\"minorgridcolor\":\"white\",\"startlinecolor\":\"#2a3f5f\"},\"type\":\"carpet\"}],\"table\":[{\"cells\":{\"fill\":{\"color\":\"#EBF0F8\"},\"line\":{\"color\":\"white\"}},\"header\":{\"fill\":{\"color\":\"#C8D4E3\"},\"line\":{\"color\":\"white\"}},\"type\":\"table\"}],\"barpolar\":[{\"marker\":{\"line\":{\"color\":\"#E5ECF6\",\"width\":0.5},\"pattern\":{\"fillmode\":\"overlay\",\"size\":10,\"solidity\":0.2}},\"type\":\"barpolar\"}],\"pie\":[{\"automargin\":true,\"type\":\"pie\"}]},\"layout\":{\"autotypenumbers\":\"strict\",\"colorway\":[\"#636efa\",\"#EF553B\",\"#00cc96\",\"#ab63fa\",\"#FFA15A\",\"#19d3f3\",\"#FF6692\",\"#B6E880\",\"#FF97FF\",\"#FECB52\"],\"font\":{\"color\":\"#2a3f5f\"},\"hovermode\":\"closest\",\"hoverlabel\":{\"align\":\"left\"},\"paper_bgcolor\":\"white\",\"plot_bgcolor\":\"#E5ECF6\",\"polar\":{\"bgcolor\":\"#E5ECF6\",\"angularaxis\":{\"gridcolor\":\"white\",\"linecolor\":\"white\",\"ticks\":\"\"},\"radialaxis\":{\"gridcolor\":\"white\",\"linecolor\":\"white\",\"ticks\":\"\"}},\"ternary\":{\"bgcolor\":\"#E5ECF6\",\"aaxis\":{\"gridcolor\":\"white\",\"linecolor\":\"white\",\"ticks\":\"\"},\"baxis\":{\"gridcolor\":\"white\",\"linecolor\":\"white\",\"ticks\":\"\"},\"caxis\":{\"gridcolor\":\"white\",\"linecolor\":\"white\",\"ticks\":\"\"}},\"coloraxis\":{\"colorbar\":{\"outlinewidth\":0,\"ticks\":\"\"}},\"colorscale\":{\"sequential\":[[0.0,\"#0d0887\"],[0.1111111111111111,\"#46039f\"],[0.2222222222222222,\"#7201a8\"],[0.3333333333333333,\"#9c179e\"],[0.4444444444444444,\"#bd3786\"],[0.5555555555555556,\"#d8576b\"],[0.6666666666666666,\"#ed7953\"],[0.7777777777777778,\"#fb9f3a\"],[0.8888888888888888,\"#fdca26\"],[1.0,\"#f0f921\"]],\"sequentialminus\":[[0.0,\"#0d0887\"],[0.1111111111111111,\"#46039f\"],[0.2222222222222222,\"#7201a8\"],[0.3333333333333333,\"#9c179e\"],[0.4444444444444444,\"#bd3786\"],[0.5555555555555556,\"#d8576b\"],[0.6666666666666666,\"#ed7953\"],[0.7777777777777778,\"#fb9f3a\"],[0.8888888888888888,\"#fdca26\"],[1.0,\"#f0f921\"]],\"diverging\":[[0,\"#8e0152\"],[0.1,\"#c51b7d\"],[0.2,\"#de77ae\"],[0.3,\"#f1b6da\"],[0.4,\"#fde0ef\"],[0.5,\"#f7f7f7\"],[0.6,\"#e6f5d0\"],[0.7,\"#b8e186\"],[0.8,\"#7fbc41\"],[0.9,\"#4d9221\"],[1,\"#276419\"]]},\"xaxis\":{\"gridcolor\":\"white\",\"linecolor\":\"white\",\"ticks\":\"\",\"title\":{\"standoff\":15},\"zerolinecolor\":\"white\",\"automargin\":true,\"zerolinewidth\":2},\"yaxis\":{\"gridcolor\":\"white\",\"linecolor\":\"white\",\"ticks\":\"\",\"title\":{\"standoff\":15},\"zerolinecolor\":\"white\",\"automargin\":true,\"zerolinewidth\":2},\"scene\":{\"xaxis\":{\"backgroundcolor\":\"#E5ECF6\",\"gridcolor\":\"white\",\"linecolor\":\"white\",\"showbackground\":true,\"ticks\":\"\",\"zerolinecolor\":\"white\",\"gridwidth\":2},\"yaxis\":{\"backgroundcolor\":\"#E5ECF6\",\"gridcolor\":\"white\",\"linecolor\":\"white\",\"showbackground\":true,\"ticks\":\"\",\"zerolinecolor\":\"white\",\"gridwidth\":2},\"zaxis\":{\"backgroundcolor\":\"#E5ECF6\",\"gridcolor\":\"white\",\"linecolor\":\"white\",\"showbackground\":true,\"ticks\":\"\",\"zerolinecolor\":\"white\",\"gridwidth\":2}},\"shapedefaults\":{\"line\":{\"color\":\"#2a3f5f\"}},\"annotationdefaults\":{\"arrowcolor\":\"#2a3f5f\",\"arrowhead\":0,\"arrowwidth\":1},\"geo\":{\"bgcolor\":\"white\",\"landcolor\":\"#E5ECF6\",\"subunitcolor\":\"white\",\"showland\":true,\"showlakes\":true,\"lakecolor\":\"white\"},\"title\":{\"x\":0.05},\"mapbox\":{\"style\":\"light\"}}}},                        {\"responsive\": true}                    ).then(function(){\n",
              "                            \n",
              "var gd = document.getElementById('6df554f0-f444-435f-b243-1f1c6dc4794c');\n",
              "var x = new MutationObserver(function (mutations, observer) {{\n",
              "        var display = window.getComputedStyle(gd).display;\n",
              "        if (!display || display === 'none') {{\n",
              "            console.log([gd, 'removed!']);\n",
              "            Plotly.purge(gd);\n",
              "            observer.disconnect();\n",
              "        }}\n",
              "}});\n",
              "\n",
              "// Listen for the removal of the full notebook cells\n",
              "var notebookContainer = gd.closest('#notebook-container');\n",
              "if (notebookContainer) {{\n",
              "    x.observe(notebookContainer, {childList: true});\n",
              "}}\n",
              "\n",
              "// Listen for the clearing of the current output cell\n",
              "var outputEl = gd.closest('.output');\n",
              "if (outputEl) {{\n",
              "    x.observe(outputEl, {childList: true});\n",
              "}}\n",
              "\n",
              "                        })                };                            </script>        </div>\n",
              "</body>\n",
              "</html>"
            ]
          },
          "metadata": {}
        },
        {
          "output_type": "display_data",
          "data": {
            "text/html": [
              "<html>\n",
              "<head><meta charset=\"utf-8\" /></head>\n",
              "<body>\n",
              "    <div>            <script src=\"https://cdnjs.cloudflare.com/ajax/libs/mathjax/2.7.5/MathJax.js?config=TeX-AMS-MML_SVG\"></script><script type=\"text/javascript\">if (window.MathJax && window.MathJax.Hub && window.MathJax.Hub.Config) {window.MathJax.Hub.Config({SVG: {font: \"STIX-Web\"}});}</script>                <script type=\"text/javascript\">window.PlotlyConfig = {MathJaxConfig: 'local'};</script>\n",
              "        <script charset=\"utf-8\" src=\"https://cdn.plot.ly/plotly-2.35.2.min.js\"></script>                <div id=\"50865df3-a7d7-402d-996a-a47657d6da1b\" class=\"plotly-graph-div\" style=\"height:525px; width:100%;\"></div>            <script type=\"text/javascript\">                                    window.PLOTLYENV=window.PLOTLYENV || {};                                    if (document.getElementById(\"50865df3-a7d7-402d-996a-a47657d6da1b\")) {                    Plotly.newPlot(                        \"50865df3-a7d7-402d-996a-a47657d6da1b\",                        [{\"dimensions\":[{\"label\":\"Objective Value\",\"range\":[1989.3642273563255,9993.907500995556],\"values\":[6734.72711378132,6781.191428327144,2639.8516021257756,6588.752402844803,6826.677325140622,6652.859658930143,6763.423484551515,7381.374915263063,6594.0648177803805,6645.566089243796,2007.560296348403,2063.7582845707057,2023.0367512693347,2037.505732719887,5339.6814497417445,4947.911045865034,2069.9340379025457,4783.47807859527,2051.65160592461,2041.7679205113493,7357.124691692637,1995.036931550239,5084.694278934512,3033.8549685155203,2104.6736050253344,4953.072155159964,1998.7424673365715,2065.2155972128344,4732.477316781548,2016.9672466766747,2312.1536299502745,2032.5192961152331,2152.616569616265,2319.355434036511,4684.682372064418,2319.448322912737,9993.907500995556,2253.6969697416266,2213.6864317414907,6924.98917931826,7342.67297862697,2064.9502896283952,2075.7365629322812,2091.4562046759725,7365.442999550035,1999.343243379548,4973.223553970306,2037.8569759212828,3127.4087787630733,7125.449957409455,2090.2555073278213,2007.2193959656377,2026.4773379043795,2054.502937710901,2040.3758683284605,2003.8884782490516,2010.608081595039,4599.277859867539,3715.1553069638535,2143.563970083522,2065.7961468354397,2015.8040462829058,2038.465411119058,2031.4026031187122,2022.4020544163418,2111.292750644492,2087.553366749979,2078.3426976245496,2083.55057100415,3065.915587928613,2051.0345050445903,2028.5284354237403,2003.8401951422074,2020.3432387128762,7395.732224810451,2062.462686928865,2000.117097768905,1989.3642273563255,2062.587865081112,4659.630305350986,2026.133150874649,2049.9108487186136,2034.1596476646337,2020.3484872450852,7482.563476828582,2000.0136620504275,5001.52756594908,6883.805980884493,2038.7554506727868,2028.4104908585628,2346.7416553356597,2020.6128715653294,2056.4813410082893,2056.011688457568,2069.157262913418,7437.468480520165,2022.8658688786363,2719.8981403066837]},{\"label\":\"learning_rate\",\"range\":[0.0012587021300994317,0.09990009115674778],\"values\":[0.02932779416008757,0.0398196343012209,0.018369723858601764,0.03297293247146465,0.049874824667380316,0.012446221112850278,0.0616765580505338,0.06844877581348686,0.009236303844911437,0.07261821946080553,0.09525319120905795,0.09854849874462389,0.09881109884829357,0.09707357190007682,0.08470529364698559,0.08202979408503401,0.08758296743045227,0.05592898600934233,0.07609414579430776,0.09187485752649568,0.09911565586785566,0.09363004090009944,0.08284279949347123,0.09186142474874726,0.07775397846392032,0.06840895837104954,0.09076102573745483,0.08709068381438655,0.09233119064952217,0.06264745522712253,0.07737877304254866,0.06116183957286522,0.04547801195330024,0.023660887904634154,0.03616750755960447,0.09124178150791089,0.0012587021300994317,0.0443341463056408,0.0679117922554287,0.0542692382608552,0.0630046302047566,0.09461578922515325,0.09887257467935781,0.08666747934105733,0.08102569246350526,0.07276800339625047,0.07502150156129272,0.07251281489967146,0.06345299835522909,0.08904678525016542,0.08016697247325677,0.09399455569283835,0.09461032520893761,0.08453089036762086,0.07095035459781769,0.09599550930413032,0.09496220143098187,0.09990009115674778,0.08871269014870888,0.09594635747108946,0.08464704366944995,0.09490421097137478,0.09079908953104304,0.0961658310215986,0.09343210595434207,0.08810414299616719,0.09737493659299573,0.07996934762264508,0.09055028347861159,0.08449865510478799,0.09961281584059281,0.0934419462923119,0.09595257881906824,0.09624015266306166,0.0859350290007791,0.09056944294483142,0.0934118302695635,0.08277074617484631,0.08264076493527726,0.0776700616937176,0.09213538137851911,0.08757098527888715,0.09764397145162182,0.08916344118692611,0.09154646204062644,0.08262138789575076,0.07494900202418195,0.07911209303389395,0.0827846432145443,0.08602356714156424,0.03148047196996451,0.09323087852903271,0.09712271667789557,0.0896998771163659,0.09986228985469037,0.0931182202325313,0.08737612786585114,0.08231448823017769]},{\"label\":\"max_depth\",\"range\":[3,10],\"values\":[7,8,7,4,5,6,9,7,4,7,10,10,10,10,9,9,10,8,8,10,9,10,10,3,9,10,8,8,6,9,9,8,9,8,9,8,10,7,6,9,7,10,10,10,9,10,10,9,10,5,9,10,10,10,9,10,10,10,5,10,8,10,10,10,10,9,10,9,10,3,9,10,10,10,10,10,9,9,8,9,9,9,7,9,8,10,10,4,9,10,10,10,10,10,10,9,10,9]},{\"label\":\"max_leaves\",\"range\":[0,100],\"values\":[72,44,64,29,43,87,60,67,19,56,99,100,99,99,0,83,83,90,77,94,73,99,100,90,80,92,93,84,73,94,50,93,77,94,68,36,86,90,95,23,79,100,97,87,97,89,64,88,6,56,82,95,95,87,91,97,97,99,90,76,84,96,98,92,100,87,81,93,96,84,89,96,100,92,100,94,97,90,86,39,69,91,98,93,89,95,95,79,86,100,48,97,94,91,98,89,95,13]},{\"label\":\"min_child_weight\",\"range\":[1,5],\"values\":[3,1,5,4,5,2,3,3,3,1,5,5,5,4,4,5,4,5,2,4,5,4,4,5,4,5,4,4,3,2,4,2,2,1,3,2,3,1,3,2,4,5,5,5,5,4,4,4,3,4,4,5,5,5,4,4,4,4,5,4,5,4,4,4,3,4,4,5,3,4,5,4,4,4,4,4,3,3,3,3,3,3,3,3,3,5,5,3,5,3,4,5,5,5,5,4,5,4]},{\"label\":\"n_estimators\",\"range\":[65,981],\"values\":[265,376,555,394,454,351,164,882,776,65,617,632,636,728,981,652,821,527,658,924,575,742,728,474,823,691,596,583,455,773,321,804,747,599,869,704,497,404,541,879,772,620,680,626,556,780,936,778,834,739,674,647,705,773,607,651,496,156,660,581,516,487,390,645,540,440,715,567,339,439,521,602,507,643,465,508,688,686,747,682,833,722,662,806,624,752,701,851,798,747,916,591,675,760,723,693,627,659]},{\"label\":\"onehot_min_freque...\",\"range\":[8.823128952344713e-05,0.9872456645768438],\"values\":[0.6964691855978616,0.48093190148436094,0.18249173045349998,0.7224433825702216,0.4308627633296438,0.6239529517921112,0.5194851192598093,0.4170222110247016,0.8423424376202573,0.6272489720512687,0.07457262539540019,0.06492713652416615,0.015325290080303589,0.003677635938920898,0.22213174263027208,0.23104600791690189,0.11681639710020034,0.3180119709937872,0.004830168886415159,0.14590188549077066,0.9872456645768438,0.002660989395906478,0.2933219974771901,0.09555200422500161,0.0014589787859703024,0.32231532594636336,0.07373869577617809,0.09641497594401038,0.2393232694479971,0.15137884864765153,0.06722622176478532,0.15805535469083767,0.17649197512188208,0.08319132807924033,0.28641135662309436,0.1916392682807985,0.3715941186382057,0.05333626725649701,0.1314957982911482,0.5109865977383299,0.5727041397368453,0.022448434165967673,0.05272714155330518,0.1315203785468076,0.7594610605904112,0.0521565095489482,0.22307579648524556,0.04739901118463606,0.10932279949871707,0.44162735248359,0.18732590517273362,0.03586365402111097,0.03261648696200712,0.09633145308343319,0.06638247890223757,0.14279580633107772,0.005727220500884096,0.25749720639943374,0.204452653013186,0.12164287726796233,0.03376153700956668,0.02348515025199595,0.0069103320309248165,0.08053196502715199,0.16720734787698827,0.0810669480288746,8.823128952344713e-05,0.11934784285378804,0.057141337806944664,0.14692071501315912,0.0958363844597622,0.031054004183109933,0.03522203707901016,0.06033224338045279,0.9809563620772489,0.03747683966567432,0.07866055203494914,0.157640812521049,0.17513143305113543,0.2523633900863595,0.13366091708378933,0.10684521678847009,0.07644506137052295,0.1505214245715311,0.3643271373363976,0.05407543529282889,0.21180380930491802,0.6737745505988137,0.04724161648347284,0.10441151031363628,0.08362992705524538,0.06290837375648438,0.032592231716613615,0.12763647084515767,0.020027393051796502,0.5406906943590972,0.159913696754846,0.075712576941938]},{\"label\":\"reg_alpha\",\"range\":[0.0003841992162088165,0.9945156343461704],\"values\":[0.9807641983846155,0.3980442553304314,0.7244553248606352,0.09210493994507518,0.9441600182038796,0.48303426426270435,0.3427638337743084,0.6249035020955999,0.09571251661238711,0.1530705151247731,0.7024236194881206,0.7196813252141258,0.7663742123639276,0.804440775050536,0.5979478864625701,0.8182366901913751,0.8770369051413747,0.6072047647506551,0.7165175833318695,0.26763761980307177,0.5057358005561213,0.8193690671722044,0.8685193819522106,0.7413087639157709,0.6383088509382546,0.9041132222270041,0.7973794854289259,0.8414480805959107,0.5415338550456612,0.9945156343461704,0.6681197005354843,0.9645172300278362,0.9933057616140696,0.9196599067889945,0.7876905835014995,0.9898464648916336,0.6975344294715482,0.9053903891902062,0.40732056932812893,0.8150546800422119,0.5503178741565792,0.7646728087437717,0.7614899850853131,0.6726802190576697,0.8519586622051003,0.01750452486919185,0.20307804906997928,0.4205271749572884,0.31095275595963456,0.9437040222456158,0.03507372448326749,0.7795037031315558,0.8226099606814894,0.4530804727476278,0.5663497470263349,0.7041656534284496,0.6959723385299773,0.7336281633053019,0.64552154673929,0.7877969091596503,0.6042833780200454,0.7136527221645469,0.6855581228040966,0.8766797553447532,0.756653967168152,0.652265095639521,0.1267093604616956,0.8029585449133402,0.4926770072441917,0.8392594040989972,0.5832318184238199,0.7121298442105525,0.7262797554927526,0.6230392529178491,0.735701510117344,0.7820254256924388,0.22054895724416734,0.0454566387460038,0.031697681180004475,0.14453934465436377,0.0069028193639905505,0.21895002831819502,0.06707530095658751,0.08283597743792206,0.34171405875376365,0.27938145196460035,0.2097282425424238,0.17744948999550192,0.26537427362805704,0.1208124691832966,0.2569889346533359,0.05665776040068088,0.10509052858018664,0.3704379670438481,0.2964506032486394,0.0003841992162088165,0.5243110486876554,0.8620723900174728]},{\"label\":\"reg_lambda\",\"range\":[0.0007125857670970785,0.985559785610705],\"values\":[0.6848297385848633,0.7379954057320357,0.6110235106775829,0.43370117267952824,0.5018366758843366,0.985559785610705,0.3041207890271841,0.6746890509878248,0.8853268262751396,0.6955295287709109,0.19925573196255597,0.10974914378391386,0.01197076149533563,0.01473448943988814,0.21004346457433745,0.006170037721318411,0.241161079890015,0.1467903433188629,0.395938221262116,0.10397076369216138,0.3073238414927149,0.01995623518616002,0.00634138782781638,0.11090206901043231,0.21691436265511788,0.06461346423543333,0.16912016163808752,0.3162380175710569,0.17553272065720016,0.3848144582442778,0.5363051892801682,0.39593761326174004,0.23853485569427266,0.3512351648598727,0.5646998808164029,0.16321374664746766,0.47589243041907436,0.07652017310946187,0.26311840348604,0.43552542276045825,0.8022189012535549,0.06509644850818246,0.15861736246687305,0.040518378795834684,0.1222802468359214,0.19825785423198727,0.27124430325680793,0.18198442786532085,0.34734073211740774,0.1949613689868976,0.9846141209805606,0.035206431956255474,0.07610839754392236,0.12157656114875814,0.04895376096976184,0.2851128788939187,0.26396257277686763,0.2255122632801862,0.09932066959412592,0.13852262223698164,0.03613235341019364,0.2750486824995969,0.2046425624605937,0.3228996554790142,0.27966499223244534,0.2386597926777194,0.15585287958140714,0.08797070462431598,0.030457442454431466,0.6326152755560979,0.20047992045748206,0.28975816675170385,0.34920630476687237,0.34967742475353314,0.0007125857670970785,0.43927471215787567,0.37549369136717703,0.3763439806653627,0.46431730505465424,0.40183636162991965,0.37910622417087053,0.3133382681340254,0.3338571498769158,0.3745017839421544,0.4220574472781429,0.49762037984882324,0.5222497248250969,0.5828301617472422,0.49687864585166913,0.4728549382508106,0.36734521201625076,0.25258464811617926,0.29711416325696993,0.408860366541464,0.13472698361591448,0.22616579351207639,0.1901420788825358,0.17661024574343723]}],\"labelangle\":30,\"labelside\":\"bottom\",\"line\":{\"color\":[6734.72711378132,6781.191428327144,2639.8516021257756,6588.752402844803,6826.677325140622,6652.859658930143,6763.423484551515,7381.374915263063,6594.0648177803805,6645.566089243796,2007.560296348403,2063.7582845707057,2023.0367512693347,2037.505732719887,5339.6814497417445,4947.911045865034,2069.9340379025457,4783.47807859527,2051.65160592461,2041.7679205113493,7357.124691692637,1995.036931550239,5084.694278934512,3033.8549685155203,2104.6736050253344,4953.072155159964,1998.7424673365715,2065.2155972128344,4732.477316781548,2016.9672466766747,2312.1536299502745,2032.5192961152331,2152.616569616265,2319.355434036511,4684.682372064418,2319.448322912737,9993.907500995556,2253.6969697416266,2213.6864317414907,6924.98917931826,7342.67297862697,2064.9502896283952,2075.7365629322812,2091.4562046759725,7365.442999550035,1999.343243379548,4973.223553970306,2037.8569759212828,3127.4087787630733,7125.449957409455,2090.2555073278213,2007.2193959656377,2026.4773379043795,2054.502937710901,2040.3758683284605,2003.8884782490516,2010.608081595039,4599.277859867539,3715.1553069638535,2143.563970083522,2065.7961468354397,2015.8040462829058,2038.465411119058,2031.4026031187122,2022.4020544163418,2111.292750644492,2087.553366749979,2078.3426976245496,2083.55057100415,3065.915587928613,2051.0345050445903,2028.5284354237403,2003.8401951422074,2020.3432387128762,7395.732224810451,2062.462686928865,2000.117097768905,1989.3642273563255,2062.587865081112,4659.630305350986,2026.133150874649,2049.9108487186136,2034.1596476646337,2020.3484872450852,7482.563476828582,2000.0136620504275,5001.52756594908,6883.805980884493,2038.7554506727868,2028.4104908585628,2346.7416553356597,2020.6128715653294,2056.4813410082893,2056.011688457568,2069.157262913418,7437.468480520165,2022.8658688786363,2719.8981403066837],\"colorbar\":{\"title\":{\"text\":\"Objective Value\"}},\"colorscale\":[[0.0,\"rgb(247,251,255)\"],[0.125,\"rgb(222,235,247)\"],[0.25,\"rgb(198,219,239)\"],[0.375,\"rgb(158,202,225)\"],[0.5,\"rgb(107,174,214)\"],[0.625,\"rgb(66,146,198)\"],[0.75,\"rgb(33,113,181)\"],[0.875,\"rgb(8,81,156)\"],[1.0,\"rgb(8,48,107)\"]],\"reversescale\":true,\"showscale\":true},\"type\":\"parcoords\"}],                        {\"title\":{\"text\":\"Parallel Coordinate Plot\"},\"template\":{\"data\":{\"histogram2dcontour\":[{\"type\":\"histogram2dcontour\",\"colorbar\":{\"outlinewidth\":0,\"ticks\":\"\"},\"colorscale\":[[0.0,\"#0d0887\"],[0.1111111111111111,\"#46039f\"],[0.2222222222222222,\"#7201a8\"],[0.3333333333333333,\"#9c179e\"],[0.4444444444444444,\"#bd3786\"],[0.5555555555555556,\"#d8576b\"],[0.6666666666666666,\"#ed7953\"],[0.7777777777777778,\"#fb9f3a\"],[0.8888888888888888,\"#fdca26\"],[1.0,\"#f0f921\"]]}],\"choropleth\":[{\"type\":\"choropleth\",\"colorbar\":{\"outlinewidth\":0,\"ticks\":\"\"}}],\"histogram2d\":[{\"type\":\"histogram2d\",\"colorbar\":{\"outlinewidth\":0,\"ticks\":\"\"},\"colorscale\":[[0.0,\"#0d0887\"],[0.1111111111111111,\"#46039f\"],[0.2222222222222222,\"#7201a8\"],[0.3333333333333333,\"#9c179e\"],[0.4444444444444444,\"#bd3786\"],[0.5555555555555556,\"#d8576b\"],[0.6666666666666666,\"#ed7953\"],[0.7777777777777778,\"#fb9f3a\"],[0.8888888888888888,\"#fdca26\"],[1.0,\"#f0f921\"]]}],\"heatmap\":[{\"type\":\"heatmap\",\"colorbar\":{\"outlinewidth\":0,\"ticks\":\"\"},\"colorscale\":[[0.0,\"#0d0887\"],[0.1111111111111111,\"#46039f\"],[0.2222222222222222,\"#7201a8\"],[0.3333333333333333,\"#9c179e\"],[0.4444444444444444,\"#bd3786\"],[0.5555555555555556,\"#d8576b\"],[0.6666666666666666,\"#ed7953\"],[0.7777777777777778,\"#fb9f3a\"],[0.8888888888888888,\"#fdca26\"],[1.0,\"#f0f921\"]]}],\"heatmapgl\":[{\"type\":\"heatmapgl\",\"colorbar\":{\"outlinewidth\":0,\"ticks\":\"\"},\"colorscale\":[[0.0,\"#0d0887\"],[0.1111111111111111,\"#46039f\"],[0.2222222222222222,\"#7201a8\"],[0.3333333333333333,\"#9c179e\"],[0.4444444444444444,\"#bd3786\"],[0.5555555555555556,\"#d8576b\"],[0.6666666666666666,\"#ed7953\"],[0.7777777777777778,\"#fb9f3a\"],[0.8888888888888888,\"#fdca26\"],[1.0,\"#f0f921\"]]}],\"contourcarpet\":[{\"type\":\"contourcarpet\",\"colorbar\":{\"outlinewidth\":0,\"ticks\":\"\"}}],\"contour\":[{\"type\":\"contour\",\"colorbar\":{\"outlinewidth\":0,\"ticks\":\"\"},\"colorscale\":[[0.0,\"#0d0887\"],[0.1111111111111111,\"#46039f\"],[0.2222222222222222,\"#7201a8\"],[0.3333333333333333,\"#9c179e\"],[0.4444444444444444,\"#bd3786\"],[0.5555555555555556,\"#d8576b\"],[0.6666666666666666,\"#ed7953\"],[0.7777777777777778,\"#fb9f3a\"],[0.8888888888888888,\"#fdca26\"],[1.0,\"#f0f921\"]]}],\"surface\":[{\"type\":\"surface\",\"colorbar\":{\"outlinewidth\":0,\"ticks\":\"\"},\"colorscale\":[[0.0,\"#0d0887\"],[0.1111111111111111,\"#46039f\"],[0.2222222222222222,\"#7201a8\"],[0.3333333333333333,\"#9c179e\"],[0.4444444444444444,\"#bd3786\"],[0.5555555555555556,\"#d8576b\"],[0.6666666666666666,\"#ed7953\"],[0.7777777777777778,\"#fb9f3a\"],[0.8888888888888888,\"#fdca26\"],[1.0,\"#f0f921\"]]}],\"mesh3d\":[{\"type\":\"mesh3d\",\"colorbar\":{\"outlinewidth\":0,\"ticks\":\"\"}}],\"scatter\":[{\"fillpattern\":{\"fillmode\":\"overlay\",\"size\":10,\"solidity\":0.2},\"type\":\"scatter\"}],\"parcoords\":[{\"type\":\"parcoords\",\"line\":{\"colorbar\":{\"outlinewidth\":0,\"ticks\":\"\"}}}],\"scatterpolargl\":[{\"type\":\"scatterpolargl\",\"marker\":{\"colorbar\":{\"outlinewidth\":0,\"ticks\":\"\"}}}],\"bar\":[{\"error_x\":{\"color\":\"#2a3f5f\"},\"error_y\":{\"color\":\"#2a3f5f\"},\"marker\":{\"line\":{\"color\":\"#E5ECF6\",\"width\":0.5},\"pattern\":{\"fillmode\":\"overlay\",\"size\":10,\"solidity\":0.2}},\"type\":\"bar\"}],\"scattergeo\":[{\"type\":\"scattergeo\",\"marker\":{\"colorbar\":{\"outlinewidth\":0,\"ticks\":\"\"}}}],\"scatterpolar\":[{\"type\":\"scatterpolar\",\"marker\":{\"colorbar\":{\"outlinewidth\":0,\"ticks\":\"\"}}}],\"histogram\":[{\"marker\":{\"pattern\":{\"fillmode\":\"overlay\",\"size\":10,\"solidity\":0.2}},\"type\":\"histogram\"}],\"scattergl\":[{\"type\":\"scattergl\",\"marker\":{\"colorbar\":{\"outlinewidth\":0,\"ticks\":\"\"}}}],\"scatter3d\":[{\"type\":\"scatter3d\",\"line\":{\"colorbar\":{\"outlinewidth\":0,\"ticks\":\"\"}},\"marker\":{\"colorbar\":{\"outlinewidth\":0,\"ticks\":\"\"}}}],\"scattermapbox\":[{\"type\":\"scattermapbox\",\"marker\":{\"colorbar\":{\"outlinewidth\":0,\"ticks\":\"\"}}}],\"scatterternary\":[{\"type\":\"scatterternary\",\"marker\":{\"colorbar\":{\"outlinewidth\":0,\"ticks\":\"\"}}}],\"scattercarpet\":[{\"type\":\"scattercarpet\",\"marker\":{\"colorbar\":{\"outlinewidth\":0,\"ticks\":\"\"}}}],\"carpet\":[{\"aaxis\":{\"endlinecolor\":\"#2a3f5f\",\"gridcolor\":\"white\",\"linecolor\":\"white\",\"minorgridcolor\":\"white\",\"startlinecolor\":\"#2a3f5f\"},\"baxis\":{\"endlinecolor\":\"#2a3f5f\",\"gridcolor\":\"white\",\"linecolor\":\"white\",\"minorgridcolor\":\"white\",\"startlinecolor\":\"#2a3f5f\"},\"type\":\"carpet\"}],\"table\":[{\"cells\":{\"fill\":{\"color\":\"#EBF0F8\"},\"line\":{\"color\":\"white\"}},\"header\":{\"fill\":{\"color\":\"#C8D4E3\"},\"line\":{\"color\":\"white\"}},\"type\":\"table\"}],\"barpolar\":[{\"marker\":{\"line\":{\"color\":\"#E5ECF6\",\"width\":0.5},\"pattern\":{\"fillmode\":\"overlay\",\"size\":10,\"solidity\":0.2}},\"type\":\"barpolar\"}],\"pie\":[{\"automargin\":true,\"type\":\"pie\"}]},\"layout\":{\"autotypenumbers\":\"strict\",\"colorway\":[\"#636efa\",\"#EF553B\",\"#00cc96\",\"#ab63fa\",\"#FFA15A\",\"#19d3f3\",\"#FF6692\",\"#B6E880\",\"#FF97FF\",\"#FECB52\"],\"font\":{\"color\":\"#2a3f5f\"},\"hovermode\":\"closest\",\"hoverlabel\":{\"align\":\"left\"},\"paper_bgcolor\":\"white\",\"plot_bgcolor\":\"#E5ECF6\",\"polar\":{\"bgcolor\":\"#E5ECF6\",\"angularaxis\":{\"gridcolor\":\"white\",\"linecolor\":\"white\",\"ticks\":\"\"},\"radialaxis\":{\"gridcolor\":\"white\",\"linecolor\":\"white\",\"ticks\":\"\"}},\"ternary\":{\"bgcolor\":\"#E5ECF6\",\"aaxis\":{\"gridcolor\":\"white\",\"linecolor\":\"white\",\"ticks\":\"\"},\"baxis\":{\"gridcolor\":\"white\",\"linecolor\":\"white\",\"ticks\":\"\"},\"caxis\":{\"gridcolor\":\"white\",\"linecolor\":\"white\",\"ticks\":\"\"}},\"coloraxis\":{\"colorbar\":{\"outlinewidth\":0,\"ticks\":\"\"}},\"colorscale\":{\"sequential\":[[0.0,\"#0d0887\"],[0.1111111111111111,\"#46039f\"],[0.2222222222222222,\"#7201a8\"],[0.3333333333333333,\"#9c179e\"],[0.4444444444444444,\"#bd3786\"],[0.5555555555555556,\"#d8576b\"],[0.6666666666666666,\"#ed7953\"],[0.7777777777777778,\"#fb9f3a\"],[0.8888888888888888,\"#fdca26\"],[1.0,\"#f0f921\"]],\"sequentialminus\":[[0.0,\"#0d0887\"],[0.1111111111111111,\"#46039f\"],[0.2222222222222222,\"#7201a8\"],[0.3333333333333333,\"#9c179e\"],[0.4444444444444444,\"#bd3786\"],[0.5555555555555556,\"#d8576b\"],[0.6666666666666666,\"#ed7953\"],[0.7777777777777778,\"#fb9f3a\"],[0.8888888888888888,\"#fdca26\"],[1.0,\"#f0f921\"]],\"diverging\":[[0,\"#8e0152\"],[0.1,\"#c51b7d\"],[0.2,\"#de77ae\"],[0.3,\"#f1b6da\"],[0.4,\"#fde0ef\"],[0.5,\"#f7f7f7\"],[0.6,\"#e6f5d0\"],[0.7,\"#b8e186\"],[0.8,\"#7fbc41\"],[0.9,\"#4d9221\"],[1,\"#276419\"]]},\"xaxis\":{\"gridcolor\":\"white\",\"linecolor\":\"white\",\"ticks\":\"\",\"title\":{\"standoff\":15},\"zerolinecolor\":\"white\",\"automargin\":true,\"zerolinewidth\":2},\"yaxis\":{\"gridcolor\":\"white\",\"linecolor\":\"white\",\"ticks\":\"\",\"title\":{\"standoff\":15},\"zerolinecolor\":\"white\",\"automargin\":true,\"zerolinewidth\":2},\"scene\":{\"xaxis\":{\"backgroundcolor\":\"#E5ECF6\",\"gridcolor\":\"white\",\"linecolor\":\"white\",\"showbackground\":true,\"ticks\":\"\",\"zerolinecolor\":\"white\",\"gridwidth\":2},\"yaxis\":{\"backgroundcolor\":\"#E5ECF6\",\"gridcolor\":\"white\",\"linecolor\":\"white\",\"showbackground\":true,\"ticks\":\"\",\"zerolinecolor\":\"white\",\"gridwidth\":2},\"zaxis\":{\"backgroundcolor\":\"#E5ECF6\",\"gridcolor\":\"white\",\"linecolor\":\"white\",\"showbackground\":true,\"ticks\":\"\",\"zerolinecolor\":\"white\",\"gridwidth\":2}},\"shapedefaults\":{\"line\":{\"color\":\"#2a3f5f\"}},\"annotationdefaults\":{\"arrowcolor\":\"#2a3f5f\",\"arrowhead\":0,\"arrowwidth\":1},\"geo\":{\"bgcolor\":\"white\",\"landcolor\":\"#E5ECF6\",\"subunitcolor\":\"white\",\"showland\":true,\"showlakes\":true,\"lakecolor\":\"white\"},\"title\":{\"x\":0.05},\"mapbox\":{\"style\":\"light\"}}}},                        {\"responsive\": true}                    ).then(function(){\n",
              "                            \n",
              "var gd = document.getElementById('50865df3-a7d7-402d-996a-a47657d6da1b');\n",
              "var x = new MutationObserver(function (mutations, observer) {{\n",
              "        var display = window.getComputedStyle(gd).display;\n",
              "        if (!display || display === 'none') {{\n",
              "            console.log([gd, 'removed!']);\n",
              "            Plotly.purge(gd);\n",
              "            observer.disconnect();\n",
              "        }}\n",
              "}});\n",
              "\n",
              "// Listen for the removal of the full notebook cells\n",
              "var notebookContainer = gd.closest('#notebook-container');\n",
              "if (notebookContainer) {{\n",
              "    x.observe(notebookContainer, {childList: true});\n",
              "}}\n",
              "\n",
              "// Listen for the clearing of the current output cell\n",
              "var outputEl = gd.closest('.output');\n",
              "if (outputEl) {{\n",
              "    x.observe(outputEl, {childList: true});\n",
              "}}\n",
              "\n",
              "                        })                };                            </script>        </div>\n",
              "</body>\n",
              "</html>"
            ]
          },
          "metadata": {}
        },
        {
          "output_type": "display_data",
          "data": {
            "text/html": [
              "<html>\n",
              "<head><meta charset=\"utf-8\" /></head>\n",
              "<body>\n",
              "    <div>            <script src=\"https://cdnjs.cloudflare.com/ajax/libs/mathjax/2.7.5/MathJax.js?config=TeX-AMS-MML_SVG\"></script><script type=\"text/javascript\">if (window.MathJax && window.MathJax.Hub && window.MathJax.Hub.Config) {window.MathJax.Hub.Config({SVG: {font: \"STIX-Web\"}});}</script>                <script type=\"text/javascript\">window.PlotlyConfig = {MathJaxConfig: 'local'};</script>\n",
              "        <script charset=\"utf-8\" src=\"https://cdn.plot.ly/plotly-2.35.2.min.js\"></script>                <div id=\"ba5f3f70-e119-4e3a-8be7-b72d2ca2b71b\" class=\"plotly-graph-div\" style=\"height:525px; width:100%;\"></div>            <script type=\"text/javascript\">                                    window.PLOTLYENV=window.PLOTLYENV || {};                                    if (document.getElementById(\"ba5f3f70-e119-4e3a-8be7-b72d2ca2b71b\")) {                    Plotly.newPlot(                        \"ba5f3f70-e119-4e3a-8be7-b72d2ca2b71b\",                        [{\"cliponaxis\":false,\"hovertemplate\":[\"min_child_weight (IntDistribution): 0.0002454093921057793\\u003cextra\\u003e\\u003c\\u002fextra\\u003e\",\"reg_alpha (FloatDistribution): 0.0005464658794169134\\u003cextra\\u003e\\u003c\\u002fextra\\u003e\",\"reg_lambda (FloatDistribution): 0.0005799738900511979\\u003cextra\\u003e\\u003c\\u002fextra\\u003e\",\"max_leaves (IntDistribution): 0.001115367210904826\\u003cextra\\u003e\\u003c\\u002fextra\\u003e\",\"n_estimators (IntDistribution): 0.002049352844562657\\u003cextra\\u003e\\u003c\\u002fextra\\u003e\",\"max_depth (IntDistribution): 0.008222458495276315\\u003cextra\\u003e\\u003c\\u002fextra\\u003e\",\"learning_rate (FloatDistribution): 0.036418429091978635\\u003cextra\\u003e\\u003c\\u002fextra\\u003e\",\"onehot_min_frequency (FloatDistribution): 0.9508225431957037\\u003cextra\\u003e\\u003c\\u002fextra\\u003e\"],\"name\":\"Objective Value\",\"orientation\":\"h\",\"text\":[\"\\u003c0.01\",\"\\u003c0.01\",\"\\u003c0.01\",\"\\u003c0.01\",\"\\u003c0.01\",\"\\u003c0.01\",\"0.04\",\"0.95\"],\"textposition\":\"outside\",\"x\":[0.0002454093921057793,0.0005464658794169134,0.0005799738900511979,0.001115367210904826,0.002049352844562657,0.008222458495276315,0.036418429091978635,0.9508225431957037],\"y\":[\"min_child_weight\",\"reg_alpha\",\"reg_lambda\",\"max_leaves\",\"n_estimators\",\"max_depth\",\"learning_rate\",\"onehot_min_frequency\"],\"type\":\"bar\"}],                        {\"title\":{\"text\":\"Hyperparameter Importances\"},\"xaxis\":{\"title\":{\"text\":\"Hyperparameter Importance\"}},\"yaxis\":{\"title\":{\"text\":\"Hyperparameter\"}},\"template\":{\"data\":{\"histogram2dcontour\":[{\"type\":\"histogram2dcontour\",\"colorbar\":{\"outlinewidth\":0,\"ticks\":\"\"},\"colorscale\":[[0.0,\"#0d0887\"],[0.1111111111111111,\"#46039f\"],[0.2222222222222222,\"#7201a8\"],[0.3333333333333333,\"#9c179e\"],[0.4444444444444444,\"#bd3786\"],[0.5555555555555556,\"#d8576b\"],[0.6666666666666666,\"#ed7953\"],[0.7777777777777778,\"#fb9f3a\"],[0.8888888888888888,\"#fdca26\"],[1.0,\"#f0f921\"]]}],\"choropleth\":[{\"type\":\"choropleth\",\"colorbar\":{\"outlinewidth\":0,\"ticks\":\"\"}}],\"histogram2d\":[{\"type\":\"histogram2d\",\"colorbar\":{\"outlinewidth\":0,\"ticks\":\"\"},\"colorscale\":[[0.0,\"#0d0887\"],[0.1111111111111111,\"#46039f\"],[0.2222222222222222,\"#7201a8\"],[0.3333333333333333,\"#9c179e\"],[0.4444444444444444,\"#bd3786\"],[0.5555555555555556,\"#d8576b\"],[0.6666666666666666,\"#ed7953\"],[0.7777777777777778,\"#fb9f3a\"],[0.8888888888888888,\"#fdca26\"],[1.0,\"#f0f921\"]]}],\"heatmap\":[{\"type\":\"heatmap\",\"colorbar\":{\"outlinewidth\":0,\"ticks\":\"\"},\"colorscale\":[[0.0,\"#0d0887\"],[0.1111111111111111,\"#46039f\"],[0.2222222222222222,\"#7201a8\"],[0.3333333333333333,\"#9c179e\"],[0.4444444444444444,\"#bd3786\"],[0.5555555555555556,\"#d8576b\"],[0.6666666666666666,\"#ed7953\"],[0.7777777777777778,\"#fb9f3a\"],[0.8888888888888888,\"#fdca26\"],[1.0,\"#f0f921\"]]}],\"heatmapgl\":[{\"type\":\"heatmapgl\",\"colorbar\":{\"outlinewidth\":0,\"ticks\":\"\"},\"colorscale\":[[0.0,\"#0d0887\"],[0.1111111111111111,\"#46039f\"],[0.2222222222222222,\"#7201a8\"],[0.3333333333333333,\"#9c179e\"],[0.4444444444444444,\"#bd3786\"],[0.5555555555555556,\"#d8576b\"],[0.6666666666666666,\"#ed7953\"],[0.7777777777777778,\"#fb9f3a\"],[0.8888888888888888,\"#fdca26\"],[1.0,\"#f0f921\"]]}],\"contourcarpet\":[{\"type\":\"contourcarpet\",\"colorbar\":{\"outlinewidth\":0,\"ticks\":\"\"}}],\"contour\":[{\"type\":\"contour\",\"colorbar\":{\"outlinewidth\":0,\"ticks\":\"\"},\"colorscale\":[[0.0,\"#0d0887\"],[0.1111111111111111,\"#46039f\"],[0.2222222222222222,\"#7201a8\"],[0.3333333333333333,\"#9c179e\"],[0.4444444444444444,\"#bd3786\"],[0.5555555555555556,\"#d8576b\"],[0.6666666666666666,\"#ed7953\"],[0.7777777777777778,\"#fb9f3a\"],[0.8888888888888888,\"#fdca26\"],[1.0,\"#f0f921\"]]}],\"surface\":[{\"type\":\"surface\",\"colorbar\":{\"outlinewidth\":0,\"ticks\":\"\"},\"colorscale\":[[0.0,\"#0d0887\"],[0.1111111111111111,\"#46039f\"],[0.2222222222222222,\"#7201a8\"],[0.3333333333333333,\"#9c179e\"],[0.4444444444444444,\"#bd3786\"],[0.5555555555555556,\"#d8576b\"],[0.6666666666666666,\"#ed7953\"],[0.7777777777777778,\"#fb9f3a\"],[0.8888888888888888,\"#fdca26\"],[1.0,\"#f0f921\"]]}],\"mesh3d\":[{\"type\":\"mesh3d\",\"colorbar\":{\"outlinewidth\":0,\"ticks\":\"\"}}],\"scatter\":[{\"fillpattern\":{\"fillmode\":\"overlay\",\"size\":10,\"solidity\":0.2},\"type\":\"scatter\"}],\"parcoords\":[{\"type\":\"parcoords\",\"line\":{\"colorbar\":{\"outlinewidth\":0,\"ticks\":\"\"}}}],\"scatterpolargl\":[{\"type\":\"scatterpolargl\",\"marker\":{\"colorbar\":{\"outlinewidth\":0,\"ticks\":\"\"}}}],\"bar\":[{\"error_x\":{\"color\":\"#2a3f5f\"},\"error_y\":{\"color\":\"#2a3f5f\"},\"marker\":{\"line\":{\"color\":\"#E5ECF6\",\"width\":0.5},\"pattern\":{\"fillmode\":\"overlay\",\"size\":10,\"solidity\":0.2}},\"type\":\"bar\"}],\"scattergeo\":[{\"type\":\"scattergeo\",\"marker\":{\"colorbar\":{\"outlinewidth\":0,\"ticks\":\"\"}}}],\"scatterpolar\":[{\"type\":\"scatterpolar\",\"marker\":{\"colorbar\":{\"outlinewidth\":0,\"ticks\":\"\"}}}],\"histogram\":[{\"marker\":{\"pattern\":{\"fillmode\":\"overlay\",\"size\":10,\"solidity\":0.2}},\"type\":\"histogram\"}],\"scattergl\":[{\"type\":\"scattergl\",\"marker\":{\"colorbar\":{\"outlinewidth\":0,\"ticks\":\"\"}}}],\"scatter3d\":[{\"type\":\"scatter3d\",\"line\":{\"colorbar\":{\"outlinewidth\":0,\"ticks\":\"\"}},\"marker\":{\"colorbar\":{\"outlinewidth\":0,\"ticks\":\"\"}}}],\"scattermapbox\":[{\"type\":\"scattermapbox\",\"marker\":{\"colorbar\":{\"outlinewidth\":0,\"ticks\":\"\"}}}],\"scatterternary\":[{\"type\":\"scatterternary\",\"marker\":{\"colorbar\":{\"outlinewidth\":0,\"ticks\":\"\"}}}],\"scattercarpet\":[{\"type\":\"scattercarpet\",\"marker\":{\"colorbar\":{\"outlinewidth\":0,\"ticks\":\"\"}}}],\"carpet\":[{\"aaxis\":{\"endlinecolor\":\"#2a3f5f\",\"gridcolor\":\"white\",\"linecolor\":\"white\",\"minorgridcolor\":\"white\",\"startlinecolor\":\"#2a3f5f\"},\"baxis\":{\"endlinecolor\":\"#2a3f5f\",\"gridcolor\":\"white\",\"linecolor\":\"white\",\"minorgridcolor\":\"white\",\"startlinecolor\":\"#2a3f5f\"},\"type\":\"carpet\"}],\"table\":[{\"cells\":{\"fill\":{\"color\":\"#EBF0F8\"},\"line\":{\"color\":\"white\"}},\"header\":{\"fill\":{\"color\":\"#C8D4E3\"},\"line\":{\"color\":\"white\"}},\"type\":\"table\"}],\"barpolar\":[{\"marker\":{\"line\":{\"color\":\"#E5ECF6\",\"width\":0.5},\"pattern\":{\"fillmode\":\"overlay\",\"size\":10,\"solidity\":0.2}},\"type\":\"barpolar\"}],\"pie\":[{\"automargin\":true,\"type\":\"pie\"}]},\"layout\":{\"autotypenumbers\":\"strict\",\"colorway\":[\"#636efa\",\"#EF553B\",\"#00cc96\",\"#ab63fa\",\"#FFA15A\",\"#19d3f3\",\"#FF6692\",\"#B6E880\",\"#FF97FF\",\"#FECB52\"],\"font\":{\"color\":\"#2a3f5f\"},\"hovermode\":\"closest\",\"hoverlabel\":{\"align\":\"left\"},\"paper_bgcolor\":\"white\",\"plot_bgcolor\":\"#E5ECF6\",\"polar\":{\"bgcolor\":\"#E5ECF6\",\"angularaxis\":{\"gridcolor\":\"white\",\"linecolor\":\"white\",\"ticks\":\"\"},\"radialaxis\":{\"gridcolor\":\"white\",\"linecolor\":\"white\",\"ticks\":\"\"}},\"ternary\":{\"bgcolor\":\"#E5ECF6\",\"aaxis\":{\"gridcolor\":\"white\",\"linecolor\":\"white\",\"ticks\":\"\"},\"baxis\":{\"gridcolor\":\"white\",\"linecolor\":\"white\",\"ticks\":\"\"},\"caxis\":{\"gridcolor\":\"white\",\"linecolor\":\"white\",\"ticks\":\"\"}},\"coloraxis\":{\"colorbar\":{\"outlinewidth\":0,\"ticks\":\"\"}},\"colorscale\":{\"sequential\":[[0.0,\"#0d0887\"],[0.1111111111111111,\"#46039f\"],[0.2222222222222222,\"#7201a8\"],[0.3333333333333333,\"#9c179e\"],[0.4444444444444444,\"#bd3786\"],[0.5555555555555556,\"#d8576b\"],[0.6666666666666666,\"#ed7953\"],[0.7777777777777778,\"#fb9f3a\"],[0.8888888888888888,\"#fdca26\"],[1.0,\"#f0f921\"]],\"sequentialminus\":[[0.0,\"#0d0887\"],[0.1111111111111111,\"#46039f\"],[0.2222222222222222,\"#7201a8\"],[0.3333333333333333,\"#9c179e\"],[0.4444444444444444,\"#bd3786\"],[0.5555555555555556,\"#d8576b\"],[0.6666666666666666,\"#ed7953\"],[0.7777777777777778,\"#fb9f3a\"],[0.8888888888888888,\"#fdca26\"],[1.0,\"#f0f921\"]],\"diverging\":[[0,\"#8e0152\"],[0.1,\"#c51b7d\"],[0.2,\"#de77ae\"],[0.3,\"#f1b6da\"],[0.4,\"#fde0ef\"],[0.5,\"#f7f7f7\"],[0.6,\"#e6f5d0\"],[0.7,\"#b8e186\"],[0.8,\"#7fbc41\"],[0.9,\"#4d9221\"],[1,\"#276419\"]]},\"xaxis\":{\"gridcolor\":\"white\",\"linecolor\":\"white\",\"ticks\":\"\",\"title\":{\"standoff\":15},\"zerolinecolor\":\"white\",\"automargin\":true,\"zerolinewidth\":2},\"yaxis\":{\"gridcolor\":\"white\",\"linecolor\":\"white\",\"ticks\":\"\",\"title\":{\"standoff\":15},\"zerolinecolor\":\"white\",\"automargin\":true,\"zerolinewidth\":2},\"scene\":{\"xaxis\":{\"backgroundcolor\":\"#E5ECF6\",\"gridcolor\":\"white\",\"linecolor\":\"white\",\"showbackground\":true,\"ticks\":\"\",\"zerolinecolor\":\"white\",\"gridwidth\":2},\"yaxis\":{\"backgroundcolor\":\"#E5ECF6\",\"gridcolor\":\"white\",\"linecolor\":\"white\",\"showbackground\":true,\"ticks\":\"\",\"zerolinecolor\":\"white\",\"gridwidth\":2},\"zaxis\":{\"backgroundcolor\":\"#E5ECF6\",\"gridcolor\":\"white\",\"linecolor\":\"white\",\"showbackground\":true,\"ticks\":\"\",\"zerolinecolor\":\"white\",\"gridwidth\":2}},\"shapedefaults\":{\"line\":{\"color\":\"#2a3f5f\"}},\"annotationdefaults\":{\"arrowcolor\":\"#2a3f5f\",\"arrowhead\":0,\"arrowwidth\":1},\"geo\":{\"bgcolor\":\"white\",\"landcolor\":\"#E5ECF6\",\"subunitcolor\":\"white\",\"showland\":true,\"showlakes\":true,\"lakecolor\":\"white\"},\"title\":{\"x\":0.05},\"mapbox\":{\"style\":\"light\"}}}},                        {\"responsive\": true}                    ).then(function(){\n",
              "                            \n",
              "var gd = document.getElementById('ba5f3f70-e119-4e3a-8be7-b72d2ca2b71b');\n",
              "var x = new MutationObserver(function (mutations, observer) {{\n",
              "        var display = window.getComputedStyle(gd).display;\n",
              "        if (!display || display === 'none') {{\n",
              "            console.log([gd, 'removed!']);\n",
              "            Plotly.purge(gd);\n",
              "            observer.disconnect();\n",
              "        }}\n",
              "}});\n",
              "\n",
              "// Listen for the removal of the full notebook cells\n",
              "var notebookContainer = gd.closest('#notebook-container');\n",
              "if (notebookContainer) {{\n",
              "    x.observe(notebookContainer, {childList: true});\n",
              "}}\n",
              "\n",
              "// Listen for the clearing of the current output cell\n",
              "var outputEl = gd.closest('.output');\n",
              "if (outputEl) {{\n",
              "    x.observe(outputEl, {childList: true});\n",
              "}}\n",
              "\n",
              "                        })                };                            </script>        </div>\n",
              "</body>\n",
              "</html>"
            ]
          },
          "metadata": {}
        }
      ],
      "source": [
        "# Inserte su código acá\n",
        "import optuna.visualization as vis\n",
        "\n",
        "# Historial de optimizacin\n",
        "fig_optimization_history = vis.plot_optimization_history(study)\n",
        "fig_optimization_history.show()\n",
        "\n",
        "# coordenadas paralelas\n",
        "fig_parallel_coordinates = vis.plot_parallel_coordinate(study)\n",
        "fig_parallel_coordinates.show()\n",
        "\n",
        "# importancia de hiperparámetros\n",
        "fig_param_importance = vis.plot_param_importances(study)\n",
        "fig_param_importance.show()\n"
      ]
    },
    {
      "cell_type": "markdown",
      "source": [
        "**Respuesta**: A partir de los graficos se observa que las mejoras del MAE se observan al rededor del trial 10, y a partir del 20 el modelo comienza a estabilizarse en torno a mejor rendimiento. En el grafico de coordenadas parlalas se obseva que los valores bajos de learning_rate (0.02 aprox) combinado con valores altos de max_depth y max_leaves estan asociados con mejores resultados. El grafico de importancia revela que onehot_min_frequency es el parametro mas influyente con diferencia, por lo que es determinante de la precision alcanzada del modelo."
      ],
      "metadata": {
        "id": "smEN2PWw2iy4"
      }
    },
    {
      "cell_type": "markdown",
      "metadata": {
        "cell_id": "ac8a20f445d045a3becf1a518d410a7d",
        "deepnote_cell_type": "markdown",
        "id": "EoW32TA9I5wA"
      },
      "source": [
        "## 6. Síntesis de resultados (3 puntos)\n",
        "\n",
        "Finalmente:\n",
        "\n",
        "1. Genere una tabla resumen del MAE en el conjunto de validación obtenido en los 5 modelos entrenados desde Baseline hasta XGBoost con Constraints, Optuna y Prunning. [1 punto]\n",
        "2. Compare los resultados de la tabla y responda, ¿qué modelo obtiene el mejor rendimiento? [0.5 puntos]\n",
        "3. Cargue el mejor modelo, prediga sobre el conjunto de **test** y reporte su MAE. [0.5 puntos]\n",
        "4. ¿Existen diferencias con respecto a las métricas obtenidas en el conjunto de validación? ¿Porqué puede ocurrir esto? [1 punto]"
      ]
    },
    {
      "cell_type": "markdown",
      "source": [
        "| Modelo                     | MAE en Validación |\n",
        "|----------------------------|-------------------|\n",
        "| Baseline (DummyRegressor)  | 13254.74         |\n",
        "| XGBoost sin Constraints    | 2439.67          |\n",
        "| XGBoost con Constraints    | 2530.60          |\n",
        "| XGBoost + Optuna           | 1967.33          |\n",
        "| XGBoost + Optuna + Prunning| 1989.36          |\n",
        "\n",
        "El mejor modelo (MAE mas bajo) es XGBoost+Optuna\n"
      ],
      "metadata": {
        "id": "dsYgFUpk4yl-"
      }
    },
    {
      "cell_type": "code",
      "execution_count": null,
      "metadata": {
        "id": "jq5C6cDnJg9h"
      },
      "outputs": [],
      "source": [
        "# Inserte su código acá\n",
        "# Cargar el modelo DummyRegressor desde Google Drive\n",
        "with open('/content/drive/MyDrive/mejor_modelo_xgb.pkl', 'rb') as best_model_file:\n",
        "    best_model = pickle.load(best_model_file)"
      ]
    },
    {
      "cell_type": "code",
      "source": [
        "best_model = study.best_trial.user_attrs[\"best_model\"]\n",
        "\n",
        "# Transformar el conjunto de test utilizando el preprocesador\n",
        "X_test_transformed = preprocessor.transform(X_test)\n",
        "\n",
        "# Realizar predicciones en el conjunto de test\n",
        "y_test_pred = best_model.predict(X_test_transformed)\n",
        "\n",
        "# Calcular el MAE en el conjunto de test\n",
        "mae_test = mean_absolute_error(y_test, y_test_pred)\n",
        "mae_test"
      ],
      "metadata": {
        "colab": {
          "base_uri": "https://localhost:8080/"
        },
        "id": "FrLXDyfr53m1",
        "outputId": "bcfb4897-052a-4419-95b8-51450eabb8f2"
      },
      "execution_count": 59,
      "outputs": [
        {
          "output_type": "execute_result",
          "data": {
            "text/plain": [
              "1935.5613742040885"
            ]
          },
          "metadata": {},
          "execution_count": 59
        }
      ]
    },
    {
      "cell_type": "markdown",
      "source": [
        "**Respuesta:**\n",
        "\n",
        "Se observa que se tiene un MAE menor al obtenido con validacion, que se pueden deber a la aleatoriedad de los datos. Esta diferencia también sugiere que el modelo está generalizando bien, ya que no se observa un gran incremento en el error al pasar de validación a test, lo que indica que no hay sobreajuste."
      ],
      "metadata": {
        "id": "Frn-3gIX6LYU"
      }
    },
    {
      "cell_type": "markdown",
      "metadata": {
        "cell_id": "5c4654d12037494fbd385b4dc6bd1059",
        "deepnote_cell_type": "markdown",
        "id": "E_19tgBEI5wA"
      },
      "source": [
        "# Conclusión\n",
        "Eso ha sido todo para el lab de hoy, recuerden que el laboratorio tiene un plazo de entrega de una semana. Cualquier duda del laboratorio, no duden en contactarnos por mail o U-cursos.\n",
        "\n",
        "<p align=\"center\">\n",
        "  <img src=\"https://media.tenor.com/8CT1AXElF_cAAAAC/gojo-satoru.gif\">\n",
        "</p>"
      ]
    },
    {
      "cell_type": "markdown",
      "metadata": {
        "cell_id": "5025de06759f4903a26916c80323bf25",
        "deepnote_cell_type": "markdown",
        "id": "Kq2cFix1I5wA"
      },
      "source": []
    },
    {
      "cell_type": "markdown",
      "metadata": {
        "created_in_deepnote_cell": true,
        "deepnote_cell_type": "markdown",
        "id": "rAp9UxwiI5wA"
      },
      "source": [
        "<a style='text-decoration:none;line-height:16px;display:flex;color:#5B5B62;padding:10px;justify-content:end;' href='https://deepnote.com?utm_source=created-in-deepnote-cell&projectId=87110296-876e-426f-b91d-aaf681223468' target=\"_blank\">\n",
        "<img alt='Created in deepnote.com' style='display:inline;max-height:16px;margin:0px;margin-right:7.5px;' src='data:image/svg+xml;base64,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' > </img>\n",
        "Created in <span style='font-weight:600;margin-left:4px;'>Deepnote</span></a>"
      ]
    }
  ],
  "metadata": {
    "colab": {
      "provenance": [],
      "collapsed_sections": [
        "E_19tgBEI5wA"
      ]
    },
    "deepnote": {},
    "deepnote_execution_queue": [],
    "deepnote_notebook_id": "f63d38450a6b464c9bb6385cf11db4d9",
    "deepnote_persisted_session": {
      "createdAt": "2023-11-09T16:18:30.203Z"
    },
    "kernelspec": {
      "display_name": "base",
      "language": "python",
      "name": "python3"
    },
    "language_info": {
      "codemirror_mode": {
        "name": "ipython",
        "version": 3
      },
      "file_extension": ".py",
      "mimetype": "text/x-python",
      "name": "python",
      "nbconvert_exporter": "python",
      "pygments_lexer": "ipython3",
      "version": "3.10.9"
    },
    "widgets": {
      "application/vnd.jupyter.widget-state+json": {
        "0bc62d3ecdf1485187e754972d547006": {
          "model_module": "@jupyter-widgets/controls",
          "model_name": "HBoxModel",
          "model_module_version": "1.5.0",
          "state": {
            "_dom_classes": [],
            "_model_module": "@jupyter-widgets/controls",
            "_model_module_version": "1.5.0",
            "_model_name": "HBoxModel",
            "_view_count": null,
            "_view_module": "@jupyter-widgets/controls",
            "_view_module_version": "1.5.0",
            "_view_name": "HBoxView",
            "box_style": "",
            "children": [
              "IPY_MODEL_a278e813e56841dfbbdfd879f3e5d488",
              "IPY_MODEL_e0028bf8d65d46bdb91ab3e1a4729bd1",
              "IPY_MODEL_f1347828184d45f8bd88c2b1f172f6bf"
            ],
            "layout": "IPY_MODEL_05c0e801e72e4063afd5690a649e77b0"
          }
        },
        "a278e813e56841dfbbdfd879f3e5d488": {
          "model_module": "@jupyter-widgets/controls",
          "model_name": "HTMLModel",
          "model_module_version": "1.5.0",
          "state": {
            "_dom_classes": [],
            "_model_module": "@jupyter-widgets/controls",
            "_model_module_version": "1.5.0",
            "_model_name": "HTMLModel",
            "_view_count": null,
            "_view_module": "@jupyter-widgets/controls",
            "_view_module_version": "1.5.0",
            "_view_name": "HTMLView",
            "description": "",
            "description_tooltip": null,
            "layout": "IPY_MODEL_7e2793a7c15845948ebe513d4af34660",
            "placeholder": "​",
            "style": "IPY_MODEL_1135878dca1e4a0d8fa56f39c7886a45",
            "value": "Best trial: 77. Best value: 1989.36:  100%"
          }
        },
        "e0028bf8d65d46bdb91ab3e1a4729bd1": {
          "model_module": "@jupyter-widgets/controls",
          "model_name": "FloatProgressModel",
          "model_module_version": "1.5.0",
          "state": {
            "_dom_classes": [],
            "_model_module": "@jupyter-widgets/controls",
            "_model_module_version": "1.5.0",
            "_model_name": "FloatProgressModel",
            "_view_count": null,
            "_view_module": "@jupyter-widgets/controls",
            "_view_module_version": "1.5.0",
            "_view_name": "ProgressView",
            "bar_style": "success",
            "description": "",
            "description_tooltip": null,
            "layout": "IPY_MODEL_965519992630444094fc48bf815c049b",
            "max": 300,
            "min": 0,
            "orientation": "horizontal",
            "style": "IPY_MODEL_56711eca16844cbaadd0ab98e241f053",
            "value": 300
          }
        },
        "f1347828184d45f8bd88c2b1f172f6bf": {
          "model_module": "@jupyter-widgets/controls",
          "model_name": "HTMLModel",
          "model_module_version": "1.5.0",
          "state": {
            "_dom_classes": [],
            "_model_module": "@jupyter-widgets/controls",
            "_model_module_version": "1.5.0",
            "_model_name": "HTMLModel",
            "_view_count": null,
            "_view_module": "@jupyter-widgets/controls",
            "_view_module_version": "1.5.0",
            "_view_name": "HTMLView",
            "description": "",
            "description_tooltip": null,
            "layout": "IPY_MODEL_5aaddfbe3d7d440e85f34629fdaa8935",
            "placeholder": "​",
            "style": "IPY_MODEL_bf2b1fc2dd1e4572be92c41372b03494",
            "value": " 05:00/05:00"
          }
        },
        "05c0e801e72e4063afd5690a649e77b0": {
          "model_module": "@jupyter-widgets/base",
          "model_name": "LayoutModel",
          "model_module_version": "1.2.0",
          "state": {
            "_model_module": "@jupyter-widgets/base",
            "_model_module_version": "1.2.0",
            "_model_name": "LayoutModel",
            "_view_count": null,
            "_view_module": "@jupyter-widgets/base",
            "_view_module_version": "1.2.0",
            "_view_name": "LayoutView",
            "align_content": null,
            "align_items": null,
            "align_self": null,
            "border": null,
            "bottom": null,
            "display": null,
            "flex": null,
            "flex_flow": null,
            "grid_area": null,
            "grid_auto_columns": null,
            "grid_auto_flow": null,
            "grid_auto_rows": null,
            "grid_column": null,
            "grid_gap": null,
            "grid_row": null,
            "grid_template_areas": null,
            "grid_template_columns": null,
            "grid_template_rows": null,
            "height": null,
            "justify_content": null,
            "justify_items": null,
            "left": null,
            "margin": null,
            "max_height": null,
            "max_width": null,
            "min_height": null,
            "min_width": null,
            "object_fit": null,
            "object_position": null,
            "order": null,
            "overflow": null,
            "overflow_x": null,
            "overflow_y": null,
            "padding": null,
            "right": null,
            "top": null,
            "visibility": null,
            "width": null
          }
        },
        "7e2793a7c15845948ebe513d4af34660": {
          "model_module": "@jupyter-widgets/base",
          "model_name": "LayoutModel",
          "model_module_version": "1.2.0",
          "state": {
            "_model_module": "@jupyter-widgets/base",
            "_model_module_version": "1.2.0",
            "_model_name": "LayoutModel",
            "_view_count": null,
            "_view_module": "@jupyter-widgets/base",
            "_view_module_version": "1.2.0",
            "_view_name": "LayoutView",
            "align_content": null,
            "align_items": null,
            "align_self": null,
            "border": null,
            "bottom": null,
            "display": null,
            "flex": null,
            "flex_flow": null,
            "grid_area": null,
            "grid_auto_columns": null,
            "grid_auto_flow": null,
            "grid_auto_rows": null,
            "grid_column": null,
            "grid_gap": null,
            "grid_row": null,
            "grid_template_areas": null,
            "grid_template_columns": null,
            "grid_template_rows": null,
            "height": null,
            "justify_content": null,
            "justify_items": null,
            "left": null,
            "margin": null,
            "max_height": null,
            "max_width": null,
            "min_height": null,
            "min_width": null,
            "object_fit": null,
            "object_position": null,
            "order": null,
            "overflow": null,
            "overflow_x": null,
            "overflow_y": null,
            "padding": null,
            "right": null,
            "top": null,
            "visibility": null,
            "width": null
          }
        },
        "1135878dca1e4a0d8fa56f39c7886a45": {
          "model_module": "@jupyter-widgets/controls",
          "model_name": "DescriptionStyleModel",
          "model_module_version": "1.5.0",
          "state": {
            "_model_module": "@jupyter-widgets/controls",
            "_model_module_version": "1.5.0",
            "_model_name": "DescriptionStyleModel",
            "_view_count": null,
            "_view_module": "@jupyter-widgets/base",
            "_view_module_version": "1.2.0",
            "_view_name": "StyleView",
            "description_width": ""
          }
        },
        "965519992630444094fc48bf815c049b": {
          "model_module": "@jupyter-widgets/base",
          "model_name": "LayoutModel",
          "model_module_version": "1.2.0",
          "state": {
            "_model_module": "@jupyter-widgets/base",
            "_model_module_version": "1.2.0",
            "_model_name": "LayoutModel",
            "_view_count": null,
            "_view_module": "@jupyter-widgets/base",
            "_view_module_version": "1.2.0",
            "_view_name": "LayoutView",
            "align_content": null,
            "align_items": null,
            "align_self": null,
            "border": null,
            "bottom": null,
            "display": null,
            "flex": null,
            "flex_flow": null,
            "grid_area": null,
            "grid_auto_columns": null,
            "grid_auto_flow": null,
            "grid_auto_rows": null,
            "grid_column": null,
            "grid_gap": null,
            "grid_row": null,
            "grid_template_areas": null,
            "grid_template_columns": null,
            "grid_template_rows": null,
            "height": null,
            "justify_content": null,
            "justify_items": null,
            "left": null,
            "margin": null,
            "max_height": null,
            "max_width": null,
            "min_height": null,
            "min_width": null,
            "object_fit": null,
            "object_position": null,
            "order": null,
            "overflow": null,
            "overflow_x": null,
            "overflow_y": null,
            "padding": null,
            "right": null,
            "top": null,
            "visibility": null,
            "width": null
          }
        },
        "56711eca16844cbaadd0ab98e241f053": {
          "model_module": "@jupyter-widgets/controls",
          "model_name": "ProgressStyleModel",
          "model_module_version": "1.5.0",
          "state": {
            "_model_module": "@jupyter-widgets/controls",
            "_model_module_version": "1.5.0",
            "_model_name": "ProgressStyleModel",
            "_view_count": null,
            "_view_module": "@jupyter-widgets/base",
            "_view_module_version": "1.2.0",
            "_view_name": "StyleView",
            "bar_color": null,
            "description_width": ""
          }
        },
        "5aaddfbe3d7d440e85f34629fdaa8935": {
          "model_module": "@jupyter-widgets/base",
          "model_name": "LayoutModel",
          "model_module_version": "1.2.0",
          "state": {
            "_model_module": "@jupyter-widgets/base",
            "_model_module_version": "1.2.0",
            "_model_name": "LayoutModel",
            "_view_count": null,
            "_view_module": "@jupyter-widgets/base",
            "_view_module_version": "1.2.0",
            "_view_name": "LayoutView",
            "align_content": null,
            "align_items": null,
            "align_self": null,
            "border": null,
            "bottom": null,
            "display": null,
            "flex": null,
            "flex_flow": null,
            "grid_area": null,
            "grid_auto_columns": null,
            "grid_auto_flow": null,
            "grid_auto_rows": null,
            "grid_column": null,
            "grid_gap": null,
            "grid_row": null,
            "grid_template_areas": null,
            "grid_template_columns": null,
            "grid_template_rows": null,
            "height": null,
            "justify_content": null,
            "justify_items": null,
            "left": null,
            "margin": null,
            "max_height": null,
            "max_width": null,
            "min_height": null,
            "min_width": null,
            "object_fit": null,
            "object_position": null,
            "order": null,
            "overflow": null,
            "overflow_x": null,
            "overflow_y": null,
            "padding": null,
            "right": null,
            "top": null,
            "visibility": null,
            "width": null
          }
        },
        "bf2b1fc2dd1e4572be92c41372b03494": {
          "model_module": "@jupyter-widgets/controls",
          "model_name": "DescriptionStyleModel",
          "model_module_version": "1.5.0",
          "state": {
            "_model_module": "@jupyter-widgets/controls",
            "_model_module_version": "1.5.0",
            "_model_name": "DescriptionStyleModel",
            "_view_count": null,
            "_view_module": "@jupyter-widgets/base",
            "_view_module_version": "1.2.0",
            "_view_name": "StyleView",
            "description_width": ""
          }
        }
      }
    }
  },
  "nbformat": 4,
  "nbformat_minor": 0
}